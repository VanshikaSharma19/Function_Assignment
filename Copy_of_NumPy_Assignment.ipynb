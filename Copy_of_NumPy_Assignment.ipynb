{
  "nbformat": 4,
  "nbformat_minor": 0,
  "metadata": {
    "colab": {
      "provenance": [],
      "authorship_tag": "ABX9TyN6y3/X+8YfepVAKN3L3ouE",
      "include_colab_link": true
    },
    "kernelspec": {
      "name": "python3",
      "display_name": "Python 3"
    },
    "language_info": {
      "name": "python"
    }
  },
  "cells": [
    {
      "cell_type": "markdown",
      "metadata": {
        "id": "view-in-github",
        "colab_type": "text"
      },
      "source": [
        "<a href=\"https://colab.research.google.com/github/VanshikaSharma19/Function_Assignment/blob/main/Copy_of_NumPy_Assignment.ipynb\" target=\"_parent\"><img src=\"https://colab.research.google.com/assets/colab-badge.svg\" alt=\"Open In Colab\"/></a>"
      ]
    },
    {
      "cell_type": "code",
      "source": [
        "#1. Create a 3x3 NumPy array with random integers between 1 and 100. Then, interchange its rows and columns."
      ],
      "metadata": {
        "id": "PcnO32lV6c4t"
      },
      "execution_count": null,
      "outputs": []
    },
    {
      "cell_type": "code",
      "source": [
        "#Created a 3x3 Numpy array with random number between 1 and 100\n",
        "import numpy as np\n",
        "arr = np.random.randint(1,100, size=(3,3))\n",
        "arr"
      ],
      "metadata": {
        "colab": {
          "base_uri": "https://localhost:8080/"
        },
        "id": "ye67pX4sWlJK",
        "outputId": "e36736ce-b720-454d-f240-4986b955f77c"
      },
      "execution_count": null,
      "outputs": [
        {
          "output_type": "execute_result",
          "data": {
            "text/plain": [
              "array([[67, 95, 70],\n",
              "       [ 7, 63,  5],\n",
              "       [20, 36, 22]])"
            ]
          },
          "metadata": {},
          "execution_count": 2
        }
      ]
    },
    {
      "cell_type": "code",
      "source": [
        "#Interchanging its rows and columns\n",
        "interchange = arr.transpose()\n",
        "interchange"
      ],
      "metadata": {
        "colab": {
          "base_uri": "https://localhost:8080/"
        },
        "id": "7Mf9EIV48mNY",
        "outputId": "a90736d4-fd1d-4454-a8e7-dbfae4cc19c0"
      },
      "execution_count": null,
      "outputs": [
        {
          "output_type": "execute_result",
          "data": {
            "text/plain": [
              "array([[67,  7, 20],\n",
              "       [95, 63, 36],\n",
              "       [70,  5, 22]])"
            ]
          },
          "metadata": {},
          "execution_count": 3
        }
      ]
    },
    {
      "cell_type": "code",
      "source": [
        "#2. Generate a 1D NumPy array with 10 elements. Reshape it into a 2x5 array, then into a 5x2 array."
      ],
      "metadata": {
        "id": "IaAqPtKb5rw7"
      },
      "execution_count": null,
      "outputs": []
    },
    {
      "cell_type": "code",
      "source": [
        "import numpy as np\n",
        "arr = np.arange(10)  #1D Numpy array with10 elements"
      ],
      "metadata": {
        "id": "0rV7e7Xx1zRJ"
      },
      "execution_count": null,
      "outputs": []
    },
    {
      "cell_type": "code",
      "source": [
        "arr.reshape(2,5)  #Reshape it into 2x5 array"
      ],
      "metadata": {
        "colab": {
          "base_uri": "https://localhost:8080/"
        },
        "id": "HXMAgiwl77bv",
        "outputId": "f0fbdf1a-ad0b-4b7c-ffe9-358ac8af33aa"
      },
      "execution_count": null,
      "outputs": [
        {
          "output_type": "execute_result",
          "data": {
            "text/plain": [
              "array([[0, 1, 2, 3, 4],\n",
              "       [5, 6, 7, 8, 9]])"
            ]
          },
          "metadata": {},
          "execution_count": 6
        }
      ]
    },
    {
      "cell_type": "code",
      "source": [
        "arr.reshape(5,2)  #Reshape it into 5x2 array"
      ],
      "metadata": {
        "colab": {
          "base_uri": "https://localhost:8080/"
        },
        "id": "DBKFcY8577PE",
        "outputId": "7a1663a5-1676-41c3-afcc-899bc2c68e48"
      },
      "execution_count": null,
      "outputs": [
        {
          "output_type": "execute_result",
          "data": {
            "text/plain": [
              "array([[0, 1],\n",
              "       [2, 3],\n",
              "       [4, 5],\n",
              "       [6, 7],\n",
              "       [8, 9]])"
            ]
          },
          "metadata": {},
          "execution_count": 7
        }
      ]
    },
    {
      "cell_type": "code",
      "source": [
        "#3. Create a 4x4 NumPy array with random float values. Add a border of zeros around it, resulting in a 6x6 array."
      ],
      "metadata": {
        "id": "j-goUd-g5uMS"
      },
      "execution_count": null,
      "outputs": []
    },
    {
      "cell_type": "code",
      "source": [
        "random_array = np.random.rand(4, 4)\n",
        "bordered_array = np.zeros((6, 6))\n",
        "bordered_array[1:5, 1:5] = random_array\n",
        "\n",
        "print(bordered_array) # To see the output, run the code."
      ],
      "metadata": {
        "id": "i22F4jqn9nEw",
        "colab": {
          "base_uri": "https://localhost:8080/"
        },
        "outputId": "5989cebc-9e6f-4868-d125-08e47f2c6ac3"
      },
      "execution_count": null,
      "outputs": [
        {
          "output_type": "stream",
          "name": "stdout",
          "text": [
            "[[0.         0.         0.         0.         0.         0.        ]\n",
            " [0.         0.16516664 0.85013668 0.71161878 0.45261246 0.        ]\n",
            " [0.         0.30408215 0.91691338 0.59926421 0.63610697 0.        ]\n",
            " [0.         0.55480406 0.20263605 0.04861115 0.00979447 0.        ]\n",
            " [0.         0.02998944 0.94163204 0.54093639 0.93220452 0.        ]\n",
            " [0.         0.         0.         0.         0.         0.        ]]\n"
          ]
        }
      ]
    },
    {
      "cell_type": "code",
      "source": [
        "#4. Using NumPy, create an array of integers from 10 to 60 with a step of 5."
      ],
      "metadata": {
        "id": "faLsV3-755MC"
      },
      "execution_count": null,
      "outputs": []
    },
    {
      "cell_type": "code",
      "source": [
        "arr=np.arange(10,60,5 ,dtype=int)\n",
        "arr"
      ],
      "metadata": {
        "colab": {
          "base_uri": "https://localhost:8080/"
        },
        "id": "kJhnoSpr9tav",
        "outputId": "832d6b2f-7e05-4b4d-8e1c-cf5c24e558f6"
      },
      "execution_count": null,
      "outputs": [
        {
          "output_type": "execute_result",
          "data": {
            "text/plain": [
              "array([10, 15, 20, 25, 30, 35, 40, 45, 50, 55])"
            ]
          },
          "metadata": {},
          "execution_count": 11
        }
      ]
    },
    {
      "cell_type": "code",
      "source": [
        "#5. Create a NumPy array of strings ['python', 'numpy', 'pandas']. Apply different case transformations (uppercase, lowercase, title case, etc.) to each element."
      ],
      "metadata": {
        "id": "3DtujiMU574J"
      },
      "execution_count": null,
      "outputs": []
    },
    {
      "cell_type": "code",
      "source": [
        "strings = np.array(['python', 'numpy', 'pandas'])\n",
        "\n",
        "# Uppercase\n",
        "uppercase_strings = np.char.upper(strings)\n",
        "print(\"Uppercase:\", uppercase_strings)\n",
        "\n",
        "# Lowercase\n",
        "lowercase_strings = np.char.lower(strings)\n",
        "print(\"Lowercase:\", lowercase_strings)\n",
        "\n",
        "# Title case\n",
        "titlecase_strings = np.char.title(strings)\n",
        "print(\"Titlecase:\", titlecase_strings)\n",
        "\n",
        "# Capitalize\n",
        "capitalize_strings = np.char.capitalize(strings)\n",
        "print(\"Capitalize:\", capitalize_strings)"
      ],
      "metadata": {
        "colab": {
          "base_uri": "https://localhost:8080/"
        },
        "id": "3N_O1Bc-xcOR",
        "outputId": "83f99498-25f8-4c23-f52d-2d2fbd465422"
      },
      "execution_count": null,
      "outputs": [
        {
          "output_type": "stream",
          "name": "stdout",
          "text": [
            "Uppercase: ['PYTHON' 'NUMPY' 'PANDAS']\n",
            "Lowercase: ['python' 'numpy' 'pandas']\n",
            "Titlecase: ['Python' 'Numpy' 'Pandas']\n",
            "Capitalize: ['Python' 'Numpy' 'Pandas']\n"
          ]
        }
      ]
    },
    {
      "cell_type": "code",
      "source": [
        "#6. Generate a NumPy array of words. Insert a space between each character of every word in the array."
      ],
      "metadata": {
        "id": "EuVcOj2X6Cz2"
      },
      "execution_count": null,
      "outputs": []
    },
    {
      "cell_type": "code",
      "source": [
        "words = 'Tina,Mina,Ravi'\n",
        "np.array(words.split(\",\"))"
      ],
      "metadata": {
        "colab": {
          "base_uri": "https://localhost:8080/"
        },
        "id": "llXwEibkwt-D",
        "outputId": "f08876fc-fb9a-4923-eaf2-77f102ccc267"
      },
      "execution_count": null,
      "outputs": [
        {
          "output_type": "execute_result",
          "data": {
            "text/plain": [
              "array(['Tina', 'Mina', 'Ravi'], dtype='<U4')"
            ]
          },
          "metadata": {},
          "execution_count": 30
        }
      ]
    },
    {
      "cell_type": "code",
      "source": [
        "#7. Create two 2D NumPy arrays and perform element-wise addition, subtraction, multiplication, and division."
      ],
      "metadata": {
        "id": "SzCH1cuO6Ij6"
      },
      "execution_count": null,
      "outputs": []
    },
    {
      "cell_type": "code",
      "source": [
        "# Create two 2D arrays\n",
        "array1 = np.array([[1, 2, 3], [4, 5, 6]])\n",
        "array2 = np.array([[7, 8, 9], [10, 11, 12]])\n",
        "\n",
        "# Element-wise addition\n",
        "addition = array1 + array2\n",
        "\n",
        "# Element-wise subtraction\n",
        "subtraction = array1 - array2\n",
        "\n",
        "# Element-wise multiplication\n",
        "multiplication = array1 * array2\n",
        "\n",
        "# Element-wise division\n",
        "division = array1 / array2\n",
        "\n",
        "# Print the results\n",
        "print(\"Addition:\\n\", addition)\n",
        "print(\"\\nSubtraction:\\n\", subtraction)\n",
        "print(\"\\nMultiplication:\\n\", multiplication)\n",
        "print(\"\\nDivision:\\n\", division)"
      ],
      "metadata": {
        "colab": {
          "base_uri": "https://localhost:8080/"
        },
        "id": "2pe2WNW1yEPK",
        "outputId": "2dd2f78f-7906-4a87-81a9-b7a844622eeb"
      },
      "execution_count": null,
      "outputs": [
        {
          "output_type": "stream",
          "name": "stdout",
          "text": [
            "Addition:\n",
            " [[ 8 10 12]\n",
            " [14 16 18]]\n",
            "\n",
            "Subtraction:\n",
            " [[-6 -6 -6]\n",
            " [-6 -6 -6]]\n",
            "\n",
            "Multiplication:\n",
            " [[ 7 16 27]\n",
            " [40 55 72]]\n",
            "\n",
            "Division:\n",
            " [[0.14285714 0.25       0.33333333]\n",
            " [0.4        0.45454545 0.5       ]]\n"
          ]
        }
      ]
    },
    {
      "cell_type": "code",
      "source": [
        "#8. Use NumPy to create a 5x5 identity matrix, then extract its diagonal elements."
      ],
      "metadata": {
        "id": "8UFLra2t6Mp1"
      },
      "execution_count": null,
      "outputs": []
    },
    {
      "cell_type": "code",
      "source": [
        "m=np.eye(5)  #5x5 identity matrix\n",
        "m"
      ],
      "metadata": {
        "colab": {
          "base_uri": "https://localhost:8080/"
        },
        "id": "ogznrODV-Q99",
        "outputId": "9c21a1c5-5890-446b-a048-09e6f0ccca60"
      },
      "execution_count": null,
      "outputs": [
        {
          "output_type": "execute_result",
          "data": {
            "text/plain": [
              "array([[1., 0., 0., 0., 0.],\n",
              "       [0., 1., 0., 0., 0.],\n",
              "       [0., 0., 1., 0., 0.],\n",
              "       [0., 0., 0., 1., 0.],\n",
              "       [0., 0., 0., 0., 1.]])"
            ]
          },
          "metadata": {},
          "execution_count": 19
        }
      ]
    },
    {
      "cell_type": "code",
      "source": [
        "np.diag(m) #extracting its diagonal elements"
      ],
      "metadata": {
        "colab": {
          "base_uri": "https://localhost:8080/"
        },
        "id": "YFLQ4XUcAY2b",
        "outputId": "9b46a086-ebcf-48c6-9e5c-0acd00246f61"
      },
      "execution_count": null,
      "outputs": [
        {
          "output_type": "execute_result",
          "data": {
            "text/plain": [
              "array([1., 1., 1., 1., 1.])"
            ]
          },
          "metadata": {},
          "execution_count": 20
        }
      ]
    },
    {
      "cell_type": "code",
      "source": [
        "#9. Generate a NumPy array of 100 random integers between 0 and 1000. Find and display all prime numbers in this array."
      ],
      "metadata": {
        "id": "HwRzH98R6Pan"
      },
      "execution_count": null,
      "outputs": []
    },
    {
      "cell_type": "code",
      "source": [
        "random_integers = np.random.randint(0, 1000, size=100)\n",
        "random_integers"
      ],
      "metadata": {
        "colab": {
          "base_uri": "https://localhost:8080/"
        },
        "id": "fFEkUlUM03fy",
        "outputId": "9843bd68-4e7e-4d13-c498-5d64b528c008"
      },
      "execution_count": null,
      "outputs": [
        {
          "output_type": "execute_result",
          "data": {
            "text/plain": [
              "array([108, 803, 942, 724, 388, 836, 564, 495, 495, 473, 875, 891, 753,\n",
              "       999, 866, 872, 591, 711, 471, 304, 549,  21, 622, 742, 403, 801,\n",
              "       736, 252, 132, 468,   5, 898, 189, 166, 189, 459, 298, 354, 366,\n",
              "       604, 651, 496, 439, 589, 805,  68, 486, 510,  32, 438, 705,  41,\n",
              "       678, 202,  76, 317, 918, 382, 162, 727, 544, 733, 934, 585, 811,\n",
              "       874, 664, 699, 270, 776, 952, 211, 938, 462, 905, 488, 299, 642,\n",
              "       559, 628, 548, 936, 659, 783, 227, 680, 773, 374, 889, 526,  14,\n",
              "       264, 738, 171,  34, 193, 790, 695, 561, 791])"
            ]
          },
          "metadata": {},
          "execution_count": 33
        }
      ]
    },
    {
      "cell_type": "code",
      "source": [
        "def is_prime(n):\n",
        "    if n <= 1:\n",
        "        return False\n",
        "    for i in range(2, int(n**0.5) + 1):\n",
        "        if n % i == 0:\n",
        "            return False\n",
        "    return True\n",
        "\n",
        "\n",
        "prime_numbers = [num for num in random_integers if is_prime(num)]\n",
        "print(\"Prime numbers:\", prime_numbers)"
      ],
      "metadata": {
        "colab": {
          "base_uri": "https://localhost:8080/"
        },
        "id": "Ka2fNnXjvIvm",
        "outputId": "a7e65884-a92f-4d8c-9579-8485f00769c8"
      },
      "execution_count": null,
      "outputs": [
        {
          "output_type": "stream",
          "name": "stdout",
          "text": [
            "Prime numbers: [5, 439, 41, 317, 727, 733, 811, 211, 659, 227, 773, 193]\n"
          ]
        }
      ]
    },
    {
      "cell_type": "code",
      "source": [
        "#10. Create a NumPy array representing daily temperatures for a month. Calculate and display the weekly averages."
      ],
      "metadata": {
        "id": "hrtAuLhd6UOj"
      },
      "execution_count": null,
      "outputs": []
    },
    {
      "cell_type": "code",
      "source": [
        "daily_temperatures = np.random.randint(60, 100, size=30)\n",
        "daily_temperatures"
      ],
      "metadata": {
        "colab": {
          "base_uri": "https://localhost:8080/"
        },
        "id": "dFVNhEQxzhiY",
        "outputId": "1a8671ba-e693-45e5-ff57-80d1547082b4"
      },
      "execution_count": null,
      "outputs": [
        {
          "output_type": "execute_result",
          "data": {
            "text/plain": [
              "array([73, 93, 78, 83, 70, 85, 70, 90, 65, 81, 73, 63, 69, 90, 77, 96, 86,\n",
              "       76, 98, 87, 75, 63, 79, 94, 93, 88, 80, 77, 89, 78])"
            ]
          },
          "metadata": {},
          "execution_count": 35
        }
      ]
    },
    {
      "cell_type": "code",
      "source": [
        "weekly_averages = []\n",
        "for i in range(0, len(daily_temperatures), 7):\n",
        "    weekly_avg = np.mean(daily_temperatures[i:i + 7])\n",
        "    weekly_averages.append(weekly_avg)\n",
        "\n",
        "weekly_averages = np.array(weekly_averages)\n",
        "weekly_averages"
      ],
      "metadata": {
        "colab": {
          "base_uri": "https://localhost:8080/"
        },
        "id": "AyO9SCIjvqtM",
        "outputId": "b8b198b0-ef8a-42f3-eac5-6b19c369c54a"
      },
      "execution_count": null,
      "outputs": [
        {
          "output_type": "execute_result",
          "data": {
            "text/plain": [
              "array([78.85714286, 75.85714286, 85.        , 82.        , 83.5       ])"
            ]
          },
          "metadata": {},
          "execution_count": 36
        }
      ]
    }
  ]
}