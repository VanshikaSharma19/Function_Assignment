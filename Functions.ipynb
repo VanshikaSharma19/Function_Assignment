{
  "nbformat": 4,
  "nbformat_minor": 0,
  "metadata": {
    "colab": {
      "provenance": [],
      "authorship_tag": "ABX9TyOh0el6a5s3ZflRR6bwyOLI",
      "include_colab_link": true
    },
    "kernelspec": {
      "name": "python3",
      "display_name": "Python 3"
    },
    "language_info": {
      "name": "python"
    }
  },
  "cells": [
    {
      "cell_type": "markdown",
      "metadata": {
        "id": "view-in-github",
        "colab_type": "text"
      },
      "source": [
        "<a href=\"https://colab.research.google.com/github/VanshikaSharma19/Function_Assignment/blob/main/Functions.ipynb\" target=\"_parent\"><img src=\"https://colab.research.google.com/assets/colab-badge.svg\" alt=\"Open In Colab\"/></a>"
      ]
    },
    {
      "cell_type": "markdown",
      "source": [
        "## **Functions**"
      ],
      "metadata": {
        "id": "EjVOfVstdo5L"
      }
    },
    {
      "cell_type": "code",
      "source": [
        "#functions>> print, len, type >> inbuilt python function\n",
        "#ceil function or roof function >> it will give nearest highest whole number value\n",
        "#floor function >> it will give u the nearest lowest whole number values."
      ],
      "metadata": {
        "id": "67yBjjaNzSnH"
      },
      "execution_count": null,
      "outputs": []
    },
    {
      "cell_type": "code",
      "source": [
        "import math as m #math(library) is a collection of functions\n",
        "m.ceil(11.2)"
      ],
      "metadata": {
        "colab": {
          "base_uri": "https://localhost:8080/"
        },
        "id": "6cYFmLXi1NpB",
        "outputId": "8407f486-fce2-48b3-a9de-7e2c45cf07f2"
      },
      "execution_count": null,
      "outputs": [
        {
          "output_type": "execute_result",
          "data": {
            "text/plain": [
              "12"
            ]
          },
          "metadata": {},
          "execution_count": 16
        }
      ]
    },
    {
      "cell_type": "code",
      "source": [
        "m.floor(11.9)"
      ],
      "metadata": {
        "colab": {
          "base_uri": "https://localhost:8080/"
        },
        "id": "FUafDM2q2FTt",
        "outputId": "256f41d0-fa6e-4348-cb4c-3c678d4ba22f"
      },
      "execution_count": null,
      "outputs": [
        {
          "output_type": "execute_result",
          "data": {
            "text/plain": [
              "11"
            ]
          },
          "metadata": {},
          "execution_count": 17
        }
      ]
    },
    {
      "cell_type": "code",
      "source": [
        "#functions>> inbuilt function\n",
        "#user defined functions"
      ],
      "metadata": {
        "id": "fNNxFhvR2aFc"
      },
      "execution_count": null,
      "outputs": []
    },
    {
      "cell_type": "code",
      "source": [
        "#syntax of function\n",
        "#def func():       >>>def is the key word func is the name\n",
        "    #do somthing>> body of the function"
      ],
      "metadata": {
        "id": "eHkyJka42s97"
      },
      "execution_count": null,
      "outputs": []
    },
    {
      "cell_type": "code",
      "source": [
        "#function is block of code which performs some specific task/comuptiation\n",
        "#why functions ?>> functions(code) are reusable, neat, clean and organised, saves your time"
      ],
      "metadata": {
        "id": "2dsMY_Ev2_ET"
      },
      "execution_count": null,
      "outputs": []
    },
    {
      "cell_type": "code",
      "source": [
        " print(\"Wlecome to the office Rahul\")\n",
        " print(\"Wlecome to the office Shyam\")\n",
        " print(\"Wlecome to the office Ravi\")"
      ],
      "metadata": {
        "colab": {
          "base_uri": "https://localhost:8080/"
        },
        "id": "P7U183f93Tud",
        "outputId": "4bdd09d6-8b62-4cdf-9251-f61f08b9983d"
      },
      "execution_count": null,
      "outputs": [
        {
          "output_type": "stream",
          "name": "stdout",
          "text": [
            "Wlecome to the office Rahul\n",
            "Wlecome to the office Shyam\n",
            "Wlecome to the office Ravi\n"
          ]
        }
      ]
    },
    {
      "cell_type": "code",
      "source": [
        "def greet():\n",
        "  print(\"Wlecome to the office\")"
      ],
      "metadata": {
        "id": "NODc-g9u6Pdj"
      },
      "execution_count": null,
      "outputs": []
    },
    {
      "cell_type": "code",
      "source": [
        "greet()"
      ],
      "metadata": {
        "colab": {
          "base_uri": "https://localhost:8080/"
        },
        "id": "a7oCs5QC-KD4",
        "outputId": "2cd2dc1f-ed82-434f-eea3-0bdf7e738f30"
      },
      "execution_count": null,
      "outputs": [
        {
          "output_type": "stream",
          "name": "stdout",
          "text": [
            "Wlecome to the office\n"
          ]
        }
      ]
    },
    {
      "cell_type": "code",
      "source": [
        "print(\"Hello world\") # in print, you call function by name, print () and provide a value inside paranthese"
      ],
      "metadata": {
        "id": "Qu7Bqaw4-X3Y"
      },
      "execution_count": null,
      "outputs": []
    },
    {
      "cell_type": "code",
      "source": [
        "def greeting(name):  #passing a variable inside a function >> name is positional arguement\n",
        "  print(\"Welcome to the office\",name)"
      ],
      "metadata": {
        "id": "lMR6LE09-9EI"
      },
      "execution_count": null,
      "outputs": []
    },
    {
      "cell_type": "code",
      "source": [
        "greeting(\"Rahul\")"
      ],
      "metadata": {
        "colab": {
          "base_uri": "https://localhost:8080/"
        },
        "id": "Pe3kgRjQ_fmS",
        "outputId": "50aca572-43c0-4919-edc2-467fc987b31e"
      },
      "execution_count": null,
      "outputs": [
        {
          "output_type": "stream",
          "name": "stdout",
          "text": [
            "Welcome to the office Rahul\n"
          ]
        }
      ]
    },
    {
      "cell_type": "code",
      "source": [
        "greeting(\"Avi\")"
      ],
      "metadata": {
        "colab": {
          "base_uri": "https://localhost:8080/"
        },
        "id": "XAab2_dd_ww4",
        "outputId": "37b4b6f4-2baf-44e1-bacb-f3a2d49094e5"
      },
      "execution_count": null,
      "outputs": [
        {
          "output_type": "stream",
          "name": "stdout",
          "text": [
            "Welcome to the office Avi\n"
          ]
        }
      ]
    },
    {
      "cell_type": "code",
      "source": [
        "greeting(\"tina\")"
      ],
      "metadata": {
        "colab": {
          "base_uri": "https://localhost:8080/"
        },
        "id": "3wtBe5GF_1XA",
        "outputId": "d12f6514-858b-4a7e-cab8-892d9b536352"
      },
      "execution_count": null,
      "outputs": [
        {
          "output_type": "stream",
          "name": "stdout",
          "text": [
            "Welcome to the office tina\n"
          ]
        }
      ]
    },
    {
      "cell_type": "code",
      "source": [
        "greeting(\"Rita\")"
      ],
      "metadata": {
        "colab": {
          "base_uri": "https://localhost:8080/"
        },
        "id": "uIm6ytuA_39j",
        "outputId": "a16ff426-87bd-4b03-d239-a143904da725"
      },
      "execution_count": null,
      "outputs": [
        {
          "output_type": "stream",
          "name": "stdout",
          "text": [
            "Welcome to the office Rita\n"
          ]
        }
      ]
    },
    {
      "cell_type": "code",
      "source": [
        "def greet(name):\n",
        "  print(\"Wlecome to the office\" ,name)\n"
      ],
      "metadata": {
        "id": "rRAU0KDtxevK"
      },
      "execution_count": null,
      "outputs": []
    },
    {
      "cell_type": "code",
      "source": [
        "greet(\"OK\")"
      ],
      "metadata": {
        "colab": {
          "base_uri": "https://localhost:8080/"
        },
        "id": "EYVaHaTkxjyS",
        "outputId": "7c9b87d6-553d-4bf2-a153-7b035f058958"
      },
      "execution_count": null,
      "outputs": [
        {
          "output_type": "stream",
          "name": "stdout",
          "text": [
            "Wlecome to the office OK\n"
          ]
        }
      ]
    },
    {
      "cell_type": "code",
      "source": [
        "greeting()   #it will throw an error"
      ],
      "metadata": {
        "colab": {
          "base_uri": "https://localhost:8080/",
          "height": 141
        },
        "id": "Y4lFqQ9s__fK",
        "outputId": "a2837b40-52b1-4976-b6ba-b65107701b23"
      },
      "execution_count": null,
      "outputs": [
        {
          "output_type": "error",
          "ename": "TypeError",
          "evalue": "greeting() missing 1 required positional argument: 'name'",
          "traceback": [
            "\u001b[0;31m---------------------------------------------------------------------------\u001b[0m",
            "\u001b[0;31mTypeError\u001b[0m                                 Traceback (most recent call last)",
            "\u001b[0;32m<ipython-input-31-4c0ea1771813>\u001b[0m in \u001b[0;36m<cell line: 1>\u001b[0;34m()\u001b[0m\n\u001b[0;32m----> 1\u001b[0;31m \u001b[0mgreeting\u001b[0m\u001b[0;34m(\u001b[0m\u001b[0;34m)\u001b[0m   \u001b[0;31m#it will throw an error\u001b[0m\u001b[0;34m\u001b[0m\u001b[0;34m\u001b[0m\u001b[0m\n\u001b[0m",
            "\u001b[0;31mTypeError\u001b[0m: greeting() missing 1 required positional argument: 'name'"
          ]
        }
      ]
    },
    {
      "cell_type": "code",
      "source": [
        "def func():\n",
        "  print(\"This is my first function\")\n",
        "func()"
      ],
      "metadata": {
        "id": "jP6X84QTArRt",
        "colab": {
          "base_uri": "https://localhost:8080/"
        },
        "outputId": "7f2a222d-9cda-4686-c419-78ab78ab83a5"
      },
      "execution_count": null,
      "outputs": [
        {
          "output_type": "stream",
          "name": "stdout",
          "text": [
            "This is my first function\n"
          ]
        }
      ]
    },
    {
      "cell_type": "code",
      "source": [
        "\"This is my first function\" + \"in Python\""
      ],
      "metadata": {
        "colab": {
          "base_uri": "https://localhost:8080/",
          "height": 36
        },
        "id": "qfGwOp_Cec93",
        "outputId": "f3e5207b-0d5e-4fcc-8707-61093446d641"
      },
      "execution_count": null,
      "outputs": [
        {
          "output_type": "execute_result",
          "data": {
            "text/plain": [
              "'This is my first functionin Python'"
            ],
            "application/vnd.google.colaboratory.intrinsic+json": {
              "type": "string"
            }
          },
          "metadata": {},
          "execution_count": 3
        }
      ]
    },
    {
      "cell_type": "code",
      "source": [
        "func() +\"in Python\"  #throw an error"
      ],
      "metadata": {
        "colab": {
          "base_uri": "https://localhost:8080/",
          "height": 158
        },
        "id": "XHBYHxcfejnl",
        "outputId": "07c75992-aab9-431f-ee3c-32fd0ec7c15c"
      },
      "execution_count": null,
      "outputs": [
        {
          "output_type": "stream",
          "name": "stdout",
          "text": [
            "This is my first function\n"
          ]
        },
        {
          "output_type": "error",
          "ename": "TypeError",
          "evalue": "unsupported operand type(s) for +: 'NoneType' and 'str'",
          "traceback": [
            "\u001b[0;31m---------------------------------------------------------------------------\u001b[0m",
            "\u001b[0;31mTypeError\u001b[0m                                 Traceback (most recent call last)",
            "\u001b[0;32m<ipython-input-6-e2b978c7ff74>\u001b[0m in \u001b[0;36m<cell line: 1>\u001b[0;34m()\u001b[0m\n\u001b[0;32m----> 1\u001b[0;31m \u001b[0mfunc\u001b[0m\u001b[0;34m(\u001b[0m\u001b[0;34m)\u001b[0m \u001b[0;34m+\u001b[0m\u001b[0;34m\"in Python\"\u001b[0m  \u001b[0;31m#throw an error\u001b[0m\u001b[0;34m\u001b[0m\u001b[0;34m\u001b[0m\u001b[0m\n\u001b[0m",
            "\u001b[0;31mTypeError\u001b[0m: unsupported operand type(s) for +: 'NoneType' and 'str'"
          ]
        }
      ]
    },
    {
      "cell_type": "code",
      "source": [
        "print(type(func()))"
      ],
      "metadata": {
        "colab": {
          "base_uri": "https://localhost:8080/"
        },
        "id": "zWIn18kDfCfg",
        "outputId": "c7d6d256-dc0d-46cc-caa9-a60afba3425c"
      },
      "execution_count": null,
      "outputs": [
        {
          "output_type": "stream",
          "name": "stdout",
          "text": [
            "This is my first function\n",
            "<class 'NoneType'>\n"
          ]
        }
      ]
    },
    {
      "cell_type": "code",
      "source": [
        "def func():\n",
        "  return \"This is my first function\"    #return >> output of a function >>it will give output as it is.\n",
        "\n",
        "func()"
      ],
      "metadata": {
        "colab": {
          "base_uri": "https://localhost:8080/",
          "height": 36
        },
        "id": "4PTQgBLvfSGF",
        "outputId": "3c0a96b6-f968-4302-c64b-8dc000d4f5e9"
      },
      "execution_count": null,
      "outputs": [
        {
          "output_type": "execute_result",
          "data": {
            "text/plain": [
              "'This is my first function'"
            ],
            "application/vnd.google.colaboratory.intrinsic+json": {
              "type": "string"
            }
          },
          "metadata": {},
          "execution_count": 9
        }
      ]
    },
    {
      "cell_type": "code",
      "source": [
        "#def function will return the Nonetype value and Return function will give output in as a String value so it gets easy for concatenation of values."
      ],
      "metadata": {
        "id": "T0BVw7P5kxJG"
      },
      "execution_count": null,
      "outputs": []
    },
    {
      "cell_type": "code",
      "source": [
        "def func():\n",
        "  return \"This is my first function\"\n",
        "\n",
        "func() + \"in Python\"\n"
      ],
      "metadata": {
        "colab": {
          "base_uri": "https://localhost:8080/",
          "height": 36
        },
        "id": "3tAw5xLeghHW",
        "outputId": "1d33edd1-d32b-4786-b04a-1cb3f685c11b"
      },
      "execution_count": null,
      "outputs": [
        {
          "output_type": "execute_result",
          "data": {
            "text/plain": [
              "'This is my first functionin Python'"
            ],
            "application/vnd.google.colaboratory.intrinsic+json": {
              "type": "string"
            }
          },
          "metadata": {},
          "execution_count": 1
        }
      ]
    },
    {
      "cell_type": "code",
      "source": [
        "print(type(func()))"
      ],
      "metadata": {
        "colab": {
          "base_uri": "https://localhost:8080/"
        },
        "id": "2YwZZED0jUgy",
        "outputId": "0d68092c-7628-4d89-f1cb-41e6b953582e"
      },
      "execution_count": null,
      "outputs": [
        {
          "output_type": "stream",
          "name": "stdout",
          "text": [
            "<class 'str'>\n"
          ]
        }
      ]
    },
    {
      "cell_type": "code",
      "source": [
        "help(\"def\")"
      ],
      "metadata": {
        "colab": {
          "base_uri": "https://localhost:8080/"
        },
        "collapsed": true,
        "id": "dE6j74szg0_H",
        "outputId": "a8f16737-8f0a-4b27-ca88-5e13b12ec7b5"
      },
      "execution_count": null,
      "outputs": [
        {
          "output_type": "stream",
          "name": "stdout",
          "text": [
            "Function definitions\n",
            "********************\n",
            "\n",
            "A function definition defines a user-defined function object (see\n",
            "section The standard type hierarchy):\n",
            "\n",
            "   funcdef                   ::= [decorators] \"def\" funcname \"(\" [parameter_list] \")\"\n",
            "               [\"->\" expression] \":\" suite\n",
            "   decorators                ::= decorator+\n",
            "   decorator                 ::= \"@\" assignment_expression NEWLINE\n",
            "   parameter_list            ::= defparameter (\",\" defparameter)* \",\" \"/\" [\",\" [parameter_list_no_posonly]]\n",
            "                        | parameter_list_no_posonly\n",
            "   parameter_list_no_posonly ::= defparameter (\",\" defparameter)* [\",\" [parameter_list_starargs]]\n",
            "                                 | parameter_list_starargs\n",
            "   parameter_list_starargs   ::= \"*\" [parameter] (\",\" defparameter)* [\",\" [\"**\" parameter [\",\"]]]\n",
            "                               | \"**\" parameter [\",\"]\n",
            "   parameter                 ::= identifier [\":\" expression]\n",
            "   defparameter              ::= parameter [\"=\" expression]\n",
            "   funcname                  ::= identifier\n",
            "\n",
            "A function definition is an executable statement.  Its execution binds\n",
            "the function name in the current local namespace to a function object\n",
            "(a wrapper around the executable code for the function).  This\n",
            "function object contains a reference to the current global namespace\n",
            "as the global namespace to be used when the function is called.\n",
            "\n",
            "The function definition does not execute the function body; this gets\n",
            "executed only when the function is called. [4]\n",
            "\n",
            "A function definition may be wrapped by one or more *decorator*\n",
            "expressions. Decorator expressions are evaluated when the function is\n",
            "defined, in the scope that contains the function definition.  The\n",
            "result must be a callable, which is invoked with the function object\n",
            "as the only argument. The returned value is bound to the function name\n",
            "instead of the function object.  Multiple decorators are applied in\n",
            "nested fashion. For example, the following code\n",
            "\n",
            "   @f1(arg)\n",
            "   @f2\n",
            "   def func(): pass\n",
            "\n",
            "is roughly equivalent to\n",
            "\n",
            "   def func(): pass\n",
            "   func = f1(arg)(f2(func))\n",
            "\n",
            "except that the original function is not temporarily bound to the name\n",
            "\"func\".\n",
            "\n",
            "Changed in version 3.9: Functions may be decorated with any valid\n",
            "\"assignment_expression\". Previously, the grammar was much more\n",
            "restrictive; see **PEP 614** for details.\n",
            "\n",
            "When one or more *parameters* have the form *parameter* \"=\"\n",
            "*expression*, the function is said to have “default parameter values.”\n",
            "For a parameter with a default value, the corresponding *argument* may\n",
            "be omitted from a call, in which case the parameter’s default value is\n",
            "substituted.  If a parameter has a default value, all following\n",
            "parameters up until the “\"*\"” must also have a default value — this is\n",
            "a syntactic restriction that is not expressed by the grammar.\n",
            "\n",
            "**Default parameter values are evaluated from left to right when the\n",
            "function definition is executed.** This means that the expression is\n",
            "evaluated once, when the function is defined, and that the same “pre-\n",
            "computed” value is used for each call.  This is especially important\n",
            "to understand when a default parameter value is a mutable object, such\n",
            "as a list or a dictionary: if the function modifies the object (e.g.\n",
            "by appending an item to a list), the default parameter value is in\n",
            "effect modified.  This is generally not what was intended.  A way\n",
            "around this is to use \"None\" as the default, and explicitly test for\n",
            "it in the body of the function, e.g.:\n",
            "\n",
            "   def whats_on_the_telly(penguin=None):\n",
            "       if penguin is None:\n",
            "           penguin = []\n",
            "       penguin.append(\"property of the zoo\")\n",
            "       return penguin\n",
            "\n",
            "Function call semantics are described in more detail in section Calls.\n",
            "A function call always assigns values to all parameters mentioned in\n",
            "the parameter list, either from positional arguments, from keyword\n",
            "arguments, or from default values.  If the form “\"*identifier\"” is\n",
            "present, it is initialized to a tuple receiving any excess positional\n",
            "parameters, defaulting to the empty tuple. If the form\n",
            "“\"**identifier\"” is present, it is initialized to a new ordered\n",
            "mapping receiving any excess keyword arguments, defaulting to a new\n",
            "empty mapping of the same type.  Parameters after “\"*\"” or\n",
            "“\"*identifier\"” are keyword-only parameters and may only be passed by\n",
            "keyword arguments.  Parameters before “\"/\"” are positional-only\n",
            "parameters and may only be passed by positional arguments.\n",
            "\n",
            "Changed in version 3.8: The \"/\" function parameter syntax may be used\n",
            "to indicate positional-only parameters. See **PEP 570** for details.\n",
            "\n",
            "Parameters may have an *annotation* of the form “\": expression\"”\n",
            "following the parameter name.  Any parameter may have an annotation,\n",
            "even those of the form \"*identifier\" or \"**identifier\".  Functions may\n",
            "have “return” annotation of the form “\"-> expression\"” after the\n",
            "parameter list.  These annotations can be any valid Python expression.\n",
            "The presence of annotations does not change the semantics of a\n",
            "function.  The annotation values are available as values of a\n",
            "dictionary keyed by the parameters’ names in the \"__annotations__\"\n",
            "attribute of the function object.  If the \"annotations\" import from\n",
            "\"__future__\" is used, annotations are preserved as strings at runtime\n",
            "which enables postponed evaluation.  Otherwise, they are evaluated\n",
            "when the function definition is executed.  In this case annotations\n",
            "may be evaluated in a different order than they appear in the source\n",
            "code.\n",
            "\n",
            "It is also possible to create anonymous functions (functions not bound\n",
            "to a name), for immediate use in expressions.  This uses lambda\n",
            "expressions, described in section Lambdas.  Note that the lambda\n",
            "expression is merely a shorthand for a simplified function definition;\n",
            "a function defined in a “\"def\"” statement can be passed around or\n",
            "assigned to another name just like a function defined by a lambda\n",
            "expression.  The “\"def\"” form is actually more powerful since it\n",
            "allows the execution of multiple statements and annotations.\n",
            "\n",
            "**Programmer’s note:** Functions are first-class objects.  A “\"def\"”\n",
            "statement executed inside a function definition defines a local\n",
            "function that can be returned or passed around.  Free variables used\n",
            "in the nested function can access the local variables of the function\n",
            "containing the def.  See section Naming and binding for details.\n",
            "\n",
            "See also:\n",
            "\n",
            "  **PEP 3107** - Function Annotations\n",
            "     The original specification for function annotations.\n",
            "\n",
            "  **PEP 484** - Type Hints\n",
            "     Definition of a standard meaning for annotations: type hints.\n",
            "\n",
            "  **PEP 526** - Syntax for Variable Annotations\n",
            "     Ability to type hint variable declarations, including class\n",
            "     variables and instance variables\n",
            "\n",
            "  **PEP 563** - Postponed Evaluation of Annotations\n",
            "     Support for forward references within annotations by preserving\n",
            "     annotations in a string form at runtime instead of eager\n",
            "     evaluation.\n",
            "\n"
          ]
        }
      ]
    },
    {
      "cell_type": "code",
      "source": [
        "def func():\n",
        "  return \"This is my first function\",1,2,3,True,3+5j\n",
        "#it will return tuple value because string is stored in ()\n",
        "func()"
      ],
      "metadata": {
        "id": "1T2v6R_Ux1To",
        "colab": {
          "base_uri": "https://localhost:8080/"
        },
        "outputId": "e4386778-f76f-48c3-8509-0d501316b40d"
      },
      "execution_count": null,
      "outputs": [
        {
          "output_type": "execute_result",
          "data": {
            "text/plain": [
              "('This is my first function', 1, 2, 3, True, (3+5j))"
            ]
          },
          "metadata": {},
          "execution_count": 6
        }
      ]
    },
    {
      "cell_type": "code",
      "source": [
        "print(type(func()))"
      ],
      "metadata": {
        "colab": {
          "base_uri": "https://localhost:8080/"
        },
        "id": "6KteNKb8lWcZ",
        "outputId": "11bed146-5bfa-464a-fdab-935276e7eefb"
      },
      "execution_count": null,
      "outputs": [
        {
          "output_type": "stream",
          "name": "stdout",
          "text": [
            "<class 'tuple'>\n"
          ]
        }
      ]
    },
    {
      "cell_type": "code",
      "source": [
        "#how to store values in speratly (indexing)\n",
        "a,b,c,d,e,f = func()"
      ],
      "metadata": {
        "id": "v59KBTV9mZAM"
      },
      "execution_count": null,
      "outputs": []
    },
    {
      "cell_type": "code",
      "source": [
        "a"
      ],
      "metadata": {
        "colab": {
          "base_uri": "https://localhost:8080/",
          "height": 36
        },
        "id": "6yqQ0NPsmpZz",
        "outputId": "698a5b3b-de29-4b61-b2d0-e6884a765190"
      },
      "execution_count": null,
      "outputs": [
        {
          "output_type": "execute_result",
          "data": {
            "text/plain": [
              "'This is my first function'"
            ],
            "application/vnd.google.colaboratory.intrinsic+json": {
              "type": "string"
            }
          },
          "metadata": {},
          "execution_count": 12
        }
      ]
    },
    {
      "cell_type": "code",
      "source": [
        "b"
      ],
      "metadata": {
        "colab": {
          "base_uri": "https://localhost:8080/"
        },
        "id": "i78YKkd1mtE_",
        "outputId": "b187d24a-e471-47f5-a682-9cff17016818"
      },
      "execution_count": null,
      "outputs": [
        {
          "output_type": "execute_result",
          "data": {
            "text/plain": [
              "1"
            ]
          },
          "metadata": {},
          "execution_count": 13
        }
      ]
    },
    {
      "cell_type": "code",
      "source": [
        "c"
      ],
      "metadata": {
        "colab": {
          "base_uri": "https://localhost:8080/"
        },
        "id": "WLGOtqNxmuGA",
        "outputId": "6c7f8ed8-00ea-486b-f452-2442d31fa2b8"
      },
      "execution_count": null,
      "outputs": [
        {
          "output_type": "execute_result",
          "data": {
            "text/plain": [
              "2"
            ]
          },
          "metadata": {},
          "execution_count": 14
        }
      ]
    },
    {
      "cell_type": "code",
      "source": [
        "d"
      ],
      "metadata": {
        "colab": {
          "base_uri": "https://localhost:8080/"
        },
        "id": "5CflAKNfmvDa",
        "outputId": "7ddc3894-5101-49a4-a673-4f498db6786f"
      },
      "execution_count": null,
      "outputs": [
        {
          "output_type": "execute_result",
          "data": {
            "text/plain": [
              "3"
            ]
          },
          "metadata": {},
          "execution_count": 15
        }
      ]
    },
    {
      "cell_type": "code",
      "source": [
        "e"
      ],
      "metadata": {
        "colab": {
          "base_uri": "https://localhost:8080/"
        },
        "id": "QsrlHHQimxYh",
        "outputId": "ff65170f-ab9c-4524-b9bb-65f5f572f338"
      },
      "execution_count": null,
      "outputs": [
        {
          "output_type": "execute_result",
          "data": {
            "text/plain": [
              "True"
            ]
          },
          "metadata": {},
          "execution_count": 17
        }
      ]
    },
    {
      "cell_type": "code",
      "source": [
        "f"
      ],
      "metadata": {
        "colab": {
          "base_uri": "https://localhost:8080/"
        },
        "id": "n6wL-k_XmzDP",
        "outputId": "32299fbb-cac8-4256-c9a0-84a7433c1239"
      },
      "execution_count": null,
      "outputs": [
        {
          "output_type": "execute_result",
          "data": {
            "text/plain": [
              "(3+5j)"
            ]
          },
          "metadata": {},
          "execution_count": 16
        }
      ]
    },
    {
      "cell_type": "code",
      "source": [
        "#or directly storing in a single value and use indexing to access the values\n",
        "a = func()\n",
        "a"
      ],
      "metadata": {
        "colab": {
          "base_uri": "https://localhost:8080/"
        },
        "id": "NdBNN9p-nJx7",
        "outputId": "4ddb6391-b829-4c81-eb77-688c93d35e09"
      },
      "execution_count": null,
      "outputs": [
        {
          "output_type": "execute_result",
          "data": {
            "text/plain": [
              "('This is my first function', 1, 2, 3, True, (3+5j))"
            ]
          },
          "metadata": {},
          "execution_count": 21
        }
      ]
    },
    {
      "cell_type": "code",
      "source": [
        "a[0]"
      ],
      "metadata": {
        "colab": {
          "base_uri": "https://localhost:8080/",
          "height": 36
        },
        "id": "UhFfgpnLnPOH",
        "outputId": "617c5ba4-94dd-49a7-c838-05b37167ea89"
      },
      "execution_count": null,
      "outputs": [
        {
          "output_type": "execute_result",
          "data": {
            "text/plain": [
              "'This is my first function'"
            ],
            "application/vnd.google.colaboratory.intrinsic+json": {
              "type": "string"
            }
          },
          "metadata": {},
          "execution_count": 19
        }
      ]
    },
    {
      "cell_type": "code",
      "source": [
        "a[-1]"
      ],
      "metadata": {
        "colab": {
          "base_uri": "https://localhost:8080/"
        },
        "id": "RoWQhoH3nQ6t",
        "outputId": "a7e03114-8696-4d83-abb3-734b76addadf"
      },
      "execution_count": null,
      "outputs": [
        {
          "output_type": "execute_result",
          "data": {
            "text/plain": [
              "(3+5j)"
            ]
          },
          "metadata": {},
          "execution_count": 20
        }
      ]
    },
    {
      "cell_type": "code",
      "source": [
        "def func():\n",
        "  calc = 2 + 3+6*5\n",
        "  return calc\n"
      ],
      "metadata": {
        "id": "kUvnBWa6lZXb"
      },
      "execution_count": null,
      "outputs": []
    },
    {
      "cell_type": "code",
      "source": [
        "func()"
      ],
      "metadata": {
        "colab": {
          "base_uri": "https://localhost:8080/"
        },
        "id": "0AE6bR5unxHP",
        "outputId": "2a63b353-6975-4b04-c63f-2ddfb7439522"
      },
      "execution_count": null,
      "outputs": [
        {
          "output_type": "execute_result",
          "data": {
            "text/plain": [
              "35"
            ]
          },
          "metadata": {},
          "execution_count": 33
        }
      ]
    },
    {
      "cell_type": "code",
      "source": [
        "type(func())"
      ],
      "metadata": {
        "colab": {
          "base_uri": "https://localhost:8080/"
        },
        "id": "sN-ImK9tn1wq",
        "outputId": "f325606b-e75b-40a0-ea34-c83fb011b651"
      },
      "execution_count": null,
      "outputs": [
        {
          "output_type": "execute_result",
          "data": {
            "text/plain": [
              "int"
            ]
          },
          "metadata": {},
          "execution_count": 34
        }
      ]
    },
    {
      "cell_type": "code",
      "source": [
        "def square_no(a):      #a is called as an arguement\n",
        "  return a*a"
      ],
      "metadata": {
        "id": "786JGoOCoZTC"
      },
      "execution_count": null,
      "outputs": []
    },
    {
      "cell_type": "code",
      "source": [
        "square_no(6)"
      ],
      "metadata": {
        "colab": {
          "base_uri": "https://localhost:8080/"
        },
        "id": "2fpo2LEBo3vT",
        "outputId": "4edb0860-3dae-47a5-b2d2-d052cd8558cd"
      },
      "execution_count": null,
      "outputs": [
        {
          "output_type": "execute_result",
          "data": {
            "text/plain": [
              "36"
            ]
          },
          "metadata": {},
          "execution_count": 37
        }
      ]
    },
    {
      "cell_type": "code",
      "source": [
        "square_no(10000)"
      ],
      "metadata": {
        "colab": {
          "base_uri": "https://localhost:8080/"
        },
        "id": "WlVJ3fXLo8sb",
        "outputId": "79ad7a7e-2cd1-4c88-daa5-37b6df4d88aa"
      },
      "execution_count": null,
      "outputs": [
        {
          "output_type": "execute_result",
          "data": {
            "text/plain": [
              "100000000"
            ]
          },
          "metadata": {},
          "execution_count": 39
        }
      ]
    },
    {
      "cell_type": "code",
      "source": [
        "def addition(a,b):      #a,b are positional arguements >> it maintains order.\n",
        "  return a+b"
      ],
      "metadata": {
        "id": "y1YkVpfZpGOC"
      },
      "execution_count": null,
      "outputs": []
    },
    {
      "cell_type": "code",
      "source": [
        "addition(9,8)"
      ],
      "metadata": {
        "colab": {
          "base_uri": "https://localhost:8080/"
        },
        "id": "vEPTMVKtpV_3",
        "outputId": "93850881-8ee5-4b3f-fbfe-01ba3cda0cda"
      },
      "execution_count": null,
      "outputs": [
        {
          "output_type": "execute_result",
          "data": {
            "text/plain": [
              "17"
            ]
          },
          "metadata": {},
          "execution_count": 42
        }
      ]
    },
    {
      "cell_type": "code",
      "source": [
        "addition(\"PW\",\" Skills\")"
      ],
      "metadata": {
        "colab": {
          "base_uri": "https://localhost:8080/",
          "height": 36
        },
        "id": "mer-vlNkpZK0",
        "outputId": "be7052f6-bcdc-4291-987e-4bf25d46bec6"
      },
      "execution_count": null,
      "outputs": [
        {
          "output_type": "execute_result",
          "data": {
            "text/plain": [
              "'PW Skills'"
            ],
            "application/vnd.google.colaboratory.intrinsic+json": {
              "type": "string"
            }
          },
          "metadata": {},
          "execution_count": 47
        }
      ]
    },
    {
      "cell_type": "code",
      "source": [
        "addition([1,2,3,4],[5,6,7,8])"
      ],
      "metadata": {
        "colab": {
          "base_uri": "https://localhost:8080/"
        },
        "id": "VngfDpM45Jjd",
        "outputId": "294f5f81-f755-429e-f6c3-c6e16633e533"
      },
      "execution_count": null,
      "outputs": [
        {
          "output_type": "execute_result",
          "data": {
            "text/plain": [
              "[1, 2, 3, 4, 5, 6, 7, 8]"
            ]
          },
          "metadata": {},
          "execution_count": 48
        }
      ]
    },
    {
      "cell_type": "code",
      "source": [
        "addition(\"SKills\",\" PW\")"
      ],
      "metadata": {
        "colab": {
          "base_uri": "https://localhost:8080/",
          "height": 36
        },
        "id": "6E0qBuwJ6DN_",
        "outputId": "66ee0b09-c973-4621-a866-25d280b8660b"
      },
      "execution_count": null,
      "outputs": [
        {
          "output_type": "execute_result",
          "data": {
            "text/plain": [
              "'SKills PW'"
            ],
            "application/vnd.google.colaboratory.intrinsic+json": {
              "type": "string"
            }
          },
          "metadata": {},
          "execution_count": 49
        }
      ]
    },
    {
      "cell_type": "code",
      "source": [
        "#changing the position\n",
        "addition(b=\" Skills\",a=\"PW\")"
      ],
      "metadata": {
        "colab": {
          "base_uri": "https://localhost:8080/",
          "height": 36
        },
        "id": "_LF_KExKDTr9",
        "outputId": "f37e30b7-7e17-455c-eb5c-fdcd8c97a961"
      },
      "execution_count": null,
      "outputs": [
        {
          "output_type": "execute_result",
          "data": {
            "text/plain": [
              "'PW Skills'"
            ],
            "application/vnd.google.colaboratory.intrinsic+json": {
              "type": "string"
            }
          },
          "metadata": {},
          "execution_count": 54
        }
      ]
    },
    {
      "cell_type": "code",
      "source": [
        "def sum1(a,b,c):\n",
        "  return a+b+c"
      ],
      "metadata": {
        "id": "YzE4MEC-EU9p"
      },
      "execution_count": null,
      "outputs": []
    },
    {
      "cell_type": "code",
      "source": [
        "sum1(3,4,5)"
      ],
      "metadata": {
        "colab": {
          "base_uri": "https://localhost:8080/"
        },
        "id": "h5uLbCptEfQt",
        "outputId": "a9b9f186-8e6c-46bc-8cbd-74f1d8286a10"
      },
      "execution_count": null,
      "outputs": [
        {
          "output_type": "execute_result",
          "data": {
            "text/plain": [
              "12"
            ]
          },
          "metadata": {},
          "execution_count": 56
        }
      ]
    },
    {
      "cell_type": "code",
      "source": [
        "#Default argument >>fixed default value are provided\n",
        "def sum1(b,c,a=0):     #default argument is passed to function in the last.\n",
        "  return a+b+c         #non-default arguments follows default argument."
      ],
      "metadata": {
        "id": "tOyQKzPxEhZh"
      },
      "execution_count": null,
      "outputs": []
    },
    {
      "cell_type": "code",
      "source": [
        "sum1(b=3,c =5,a=4)"
      ],
      "metadata": {
        "colab": {
          "base_uri": "https://localhost:8080/"
        },
        "id": "a_IWJCHYFGYl",
        "outputId": "d7cba72a-7f0c-4212-9d67-c360916627ff"
      },
      "execution_count": null,
      "outputs": [
        {
          "output_type": "execute_result",
          "data": {
            "text/plain": [
              "12"
            ]
          },
          "metadata": {},
          "execution_count": 58
        }
      ]
    },
    {
      "cell_type": "code",
      "source": [
        "sum1(b=1,c=4)"
      ],
      "metadata": {
        "colab": {
          "base_uri": "https://localhost:8080/"
        },
        "id": "JeVH2D0cFMw2",
        "outputId": "980b625b-3d9e-4bfb-e22e-d2efc9031f8b"
      },
      "execution_count": null,
      "outputs": [
        {
          "output_type": "execute_result",
          "data": {
            "text/plain": [
              "5"
            ]
          },
          "metadata": {},
          "execution_count": 59
        }
      ]
    },
    {
      "cell_type": "code",
      "source": [
        "def sum1(a,b,c):\n",
        "  return a+b+c"
      ],
      "metadata": {
        "id": "UVxKWn_FFQoT"
      },
      "execution_count": null,
      "outputs": []
    },
    {
      "cell_type": "code",
      "source": [
        "sum1(1,2)    #it will give error because one value is not givin >> where default argument comes in"
      ],
      "metadata": {
        "colab": {
          "base_uri": "https://localhost:8080/",
          "height": 158
        },
        "collapsed": true,
        "id": "kesLxSKlFcPW",
        "outputId": "1ec95d5e-70a7-4e8e-8125-2a9e344e7749"
      },
      "execution_count": null,
      "outputs": [
        {
          "output_type": "error",
          "ename": "TypeError",
          "evalue": "sum1() missing 1 required positional argument: 'c'",
          "traceback": [
            "\u001b[0;31m---------------------------------------------------------------------------\u001b[0m",
            "\u001b[0;31mTypeError\u001b[0m                                 Traceback (most recent call last)",
            "\u001b[0;32m<ipython-input-63-cf8dd3438a02>\u001b[0m in \u001b[0;36m<cell line: 1>\u001b[0;34m()\u001b[0m\n\u001b[0;32m----> 1\u001b[0;31m \u001b[0msum1\u001b[0m\u001b[0;34m(\u001b[0m\u001b[0;36m1\u001b[0m\u001b[0;34m,\u001b[0m\u001b[0;36m2\u001b[0m\u001b[0;34m)\u001b[0m    \u001b[0;31m#it will give error because one value is not givin >> where default argument comes in\u001b[0m\u001b[0;34m\u001b[0m\u001b[0;34m\u001b[0m\u001b[0m\n\u001b[0m",
            "\u001b[0;31mTypeError\u001b[0m: sum1() missing 1 required positional argument: 'c'"
          ]
        }
      ]
    },
    {
      "cell_type": "code",
      "source": [
        "def sum1(a=0,b,c):  #it will give error because default argument is not in the last.\n",
        "  return a+b+c"
      ],
      "metadata": {
        "colab": {
          "base_uri": "https://localhost:8080/",
          "height": 124
        },
        "collapsed": true,
        "id": "p43k3KR5Fezl",
        "outputId": "d57038e2-94f4-49ff-8cec-e3b9bb977ff8"
      },
      "execution_count": null,
      "outputs": [
        {
          "output_type": "error",
          "ename": "SyntaxError",
          "evalue": "non-default argument follows default argument (<ipython-input-65-1bf8feacf2e1>, line 1)",
          "traceback": [
            "\u001b[0;36m  File \u001b[0;32m\"<ipython-input-65-1bf8feacf2e1>\"\u001b[0;36m, line \u001b[0;32m1\u001b[0m\n\u001b[0;31m    def sum1(a=0,b,c):  #it will give error because default argument is not in the last.\u001b[0m\n\u001b[0m                 ^\u001b[0m\n\u001b[0;31mSyntaxError\u001b[0m\u001b[0;31m:\u001b[0m non-default argument follows default argument\n"
          ]
        }
      ]
    },
    {
      "cell_type": "code",
      "source": [
        "#default argument for the all the values >> YES\n",
        "def sum1(a=1,b=2,c=3):\n",
        "  return a+b+c"
      ],
      "metadata": {
        "id": "hljsM2yhGW2I"
      },
      "execution_count": null,
      "outputs": []
    },
    {
      "cell_type": "code",
      "source": [
        "sum1()"
      ],
      "metadata": {
        "colab": {
          "base_uri": "https://localhost:8080/"
        },
        "id": "qhExxf92G064",
        "outputId": "13eb04ed-c47b-4d58-9990-6858f29f7e75"
      },
      "execution_count": null,
      "outputs": [
        {
          "output_type": "execute_result",
          "data": {
            "text/plain": [
              "6"
            ]
          },
          "metadata": {},
          "execution_count": 67
        }
      ]
    },
    {
      "cell_type": "code",
      "source": [
        "sum1(9)"
      ],
      "metadata": {
        "colab": {
          "base_uri": "https://localhost:8080/"
        },
        "id": "-4zRivGdG24-",
        "outputId": "84b6cb3d-8044-4521-cc22-dfa20ca83e75"
      },
      "execution_count": null,
      "outputs": [
        {
          "output_type": "execute_result",
          "data": {
            "text/plain": [
              "14"
            ]
          },
          "metadata": {},
          "execution_count": 69
        }
      ]
    },
    {
      "cell_type": "code",
      "source": [
        "sum1(c=6)"
      ],
      "metadata": {
        "colab": {
          "base_uri": "https://localhost:8080/"
        },
        "id": "7zVCC3h4G7ZE",
        "outputId": "32ef199f-398e-4a8e-85dc-5f9b9b68f8c4"
      },
      "execution_count": null,
      "outputs": [
        {
          "output_type": "execute_result",
          "data": {
            "text/plain": [
              "9"
            ]
          },
          "metadata": {},
          "execution_count": 70
        }
      ]
    },
    {
      "cell_type": "code",
      "source": [
        "def add_two_number():\n",
        "  a = int(input(\"Enter first number \"))\n",
        "  b = int(input(\"Enter second number \"))\n",
        "  return a+b"
      ],
      "metadata": {
        "id": "f29gpSBhJ7sm"
      },
      "execution_count": null,
      "outputs": []
    },
    {
      "cell_type": "code",
      "source": [
        "add_two_number()"
      ],
      "metadata": {
        "colab": {
          "base_uri": "https://localhost:8080/"
        },
        "id": "AW_U6BSQJ_Tb",
        "outputId": "0672172b-f0a3-43cf-9a5f-7795dc42be46"
      },
      "execution_count": null,
      "outputs": [
        {
          "name": "stdout",
          "output_type": "stream",
          "text": [
            "Enter first number 20\n",
            "Enter second number 20\n"
          ]
        },
        {
          "output_type": "execute_result",
          "data": {
            "text/plain": [
              "40"
            ]
          },
          "metadata": {},
          "execution_count": 88
        }
      ]
    },
    {
      "cell_type": "code",
      "source": [
        "def add_two_number():\n",
        "  a = int(input(\"Enter first number \"))\n",
        "  b = int(input(\"Enter second number \"))\n",
        "  c = ('Sum of both numbers are' , a+b)\n",
        "  return c"
      ],
      "metadata": {
        "id": "49kpJENEHaye"
      },
      "execution_count": null,
      "outputs": []
    },
    {
      "cell_type": "code",
      "source": [
        "add_two_number()"
      ],
      "metadata": {
        "colab": {
          "base_uri": "https://localhost:8080/"
        },
        "id": "HXlOiEL3Id33",
        "outputId": "5653ef3d-0ae7-457f-c4f9-8f106c5817fb"
      },
      "execution_count": null,
      "outputs": [
        {
          "name": "stdout",
          "output_type": "stream",
          "text": [
            "Enter first number 10\n",
            "Enter second number 10\n"
          ]
        },
        {
          "output_type": "execute_result",
          "data": {
            "text/plain": [
              "('Sum of both numbers are', 20)"
            ]
          },
          "metadata": {},
          "execution_count": 85
        }
      ]
    },
    {
      "cell_type": "code",
      "source": [
        "#write a function that takes List as input and return all numeric values"
      ],
      "metadata": {
        "id": "XClGmcU-Jzdu"
      },
      "execution_count": null,
      "outputs": []
    },
    {
      "cell_type": "code",
      "source": [
        "\n",
        "def lists(*n):\n",
        "  l=[]\n",
        "  for i in n:\n",
        "    if type(i) == list:\n",
        "      for j in i:\n",
        "        if type(j) == int or type(j) == float:\n",
        "          l.append(j)\n",
        "  return l\n"
      ],
      "metadata": {
        "id": "2qMGDt48KSJk"
      },
      "execution_count": null,
      "outputs": []
    },
    {
      "cell_type": "code",
      "source": [
        "res = lists([1,\"V\",2,3,4,5,6])\n",
        "res"
      ],
      "metadata": {
        "colab": {
          "base_uri": "https://localhost:8080/"
        },
        "id": "6l1tHXtgKkla",
        "outputId": "a49bfecd-8389-4cd0-c7c7-691b7d834624"
      },
      "execution_count": null,
      "outputs": [
        {
          "output_type": "execute_result",
          "data": {
            "text/plain": [
              "[1, 2, 3, 4, 5, 6]"
            ]
          },
          "metadata": {},
          "execution_count": 30
        }
      ]
    },
    {
      "cell_type": "code",
      "source": [
        "def only_numbers(a):\n",
        "  n = []\n",
        "  for i in a:\n",
        "    if type(i) == int or type(i) == float:\n",
        "      n.append(i)\n",
        "  return n"
      ],
      "metadata": {
        "id": "2rlI-4ENK2pi"
      },
      "execution_count": null,
      "outputs": []
    },
    {
      "cell_type": "code",
      "source": [
        "only_numbers([1,2.2,3,4,\"Ravi\",True])"
      ],
      "metadata": {
        "colab": {
          "base_uri": "https://localhost:8080/"
        },
        "id": "fQlLYs6SQYrR",
        "outputId": "65859149-a4d2-4e16-f89e-0c44b18f6dbc"
      },
      "execution_count": null,
      "outputs": [
        {
          "output_type": "execute_result",
          "data": {
            "text/plain": [
              "[1, 2.2, 3, 4]"
            ]
          },
          "metadata": {},
          "execution_count": 105
        }
      ]
    },
    {
      "cell_type": "code",
      "source": [
        "#now in input take nested list\n",
        "only_numeric([1,2,3,4.2,5,6.5,7,\"Ajay\",True ,3+5j,\"PW Skills\",[10,11,12,13,14,15]])"
      ],
      "metadata": {
        "collapsed": true,
        "id": "JasS7g5WQiLZ"
      },
      "execution_count": null,
      "outputs": []
    },
    {
      "cell_type": "code",
      "source": [
        "def only_numbers(a):\n",
        "  n = []\n",
        "  for i in a:\n",
        "    if type(i)==int or type(i)==float:\n",
        "      n.append(i)\n",
        "    elif type(i) == list:\n",
        "      for j in i:\n",
        "        if type(j) == int or type(j) == float or type(j) == list:\n",
        "          n.append(j)\n",
        "  return n"
      ],
      "metadata": {
        "id": "bWyE2X3NYQWE"
      },
      "execution_count": null,
      "outputs": []
    },
    {
      "cell_type": "code",
      "source": [
        "only_numbers([1,2,3,4.2,5,6.5,7,\"Ajay\",True ,3+5j,\"PW Skills\",[10,11,12,13,14,15]])"
      ],
      "metadata": {
        "colab": {
          "base_uri": "https://localhost:8080/"
        },
        "id": "ZWyeGbczZGOi",
        "outputId": "b0a4b381-8401-4529-8b45-a2154252a926"
      },
      "execution_count": null,
      "outputs": [
        {
          "output_type": "execute_result",
          "data": {
            "text/plain": [
              "[1, 2, 3, 4.2, 5, 6.5, 7, 10, 11, 12, 13, 14, 15]"
            ]
          },
          "metadata": {},
          "execution_count": 35
        }
      ]
    },
    {
      "cell_type": "code",
      "source": [
        "def only_numbers(a):\n",
        "  n = []\n",
        "  for i in a:\n",
        "    if type(i) == int or type(i) == float:\n",
        "      n.append(i)\n",
        "    else:\n",
        "      if type(i) == str:\n",
        "        continue\n",
        "  return n"
      ],
      "metadata": {
        "id": "nQ5oh3iYaEg4"
      },
      "execution_count": null,
      "outputs": []
    },
    {
      "cell_type": "code",
      "source": [
        "only_numbers([1,2,3,4.2,5,6.5,7,\"Ajay\",True ,3+5j,\"PW Skills\",[10,11,12,13,14,15]])"
      ],
      "metadata": {
        "colab": {
          "base_uri": "https://localhost:8080/"
        },
        "id": "wD_t_e7vktZM",
        "outputId": "62e79296-bdce-4979-a62d-868662dd4aaa"
      },
      "execution_count": null,
      "outputs": [
        {
          "output_type": "execute_result",
          "data": {
            "text/plain": [
              "[1, 2, 3, 4.2, 5, 6.5, 7]"
            ]
          },
          "metadata": {},
          "execution_count": 28
        }
      ]
    },
    {
      "cell_type": "code",
      "source": [
        "def only_numberic(a):\n",
        "  n = []\n",
        "  for i in a:\n",
        "    if type(i) == list:\n",
        "      for j in i:\n",
        "        if type(j) == int or type(j) == float:\n",
        "          n.append(j)\n",
        "    else:\n",
        "      if type(i) == int or type(i) == float:\n",
        "        n.append(i)\n",
        "  return n"
      ],
      "metadata": {
        "id": "xhoF1-v0lJZ8"
      },
      "execution_count": null,
      "outputs": []
    },
    {
      "cell_type": "code",
      "source": [
        "only_numberic([1,2,3,4.5,\"Ravi\",True,[100,200,101,\"Tina\",3+5j]])"
      ],
      "metadata": {
        "colab": {
          "base_uri": "https://localhost:8080/"
        },
        "id": "ZchFiP-moONF",
        "outputId": "d5e1cf25-46bd-4647-9551-40d1b95e35b2"
      },
      "execution_count": null,
      "outputs": [
        {
          "output_type": "execute_result",
          "data": {
            "text/plain": [
              "[1, 2, 3, 4.5, 100, 200, 101]"
            ]
          },
          "metadata": {},
          "execution_count": 41
        }
      ]
    },
    {
      "cell_type": "code",
      "source": [
        "def only_number(a):\n",
        "  n=[]\n",
        "  for i in a:\n",
        "    if type(i) == list:\n",
        "      for j in i:\n",
        "        if type(j) == int or type(j) == float:\n",
        "          n.append(j)\n",
        "          while type(a) == list:\n",
        "            if type(a) == int or type(a) == float:\n",
        "              n.append(a)\n",
        "              return(n)"
      ],
      "metadata": {
        "id": "A_gEA_7logON"
      },
      "execution_count": null,
      "outputs": []
    },
    {
      "cell_type": "code",
      "source": [
        "only_number([1,2.5,3,\"Avinash\",3+5j,[10,20,\"Tina\"]])"
      ],
      "metadata": {
        "colab": {
          "base_uri": "https://localhost:8080/",
          "height": 263
        },
        "id": "L4whacXIY1Z5",
        "outputId": "88f760e7-00bd-4c35-8ad3-efc3198f5c92"
      },
      "execution_count": null,
      "outputs": [
        {
          "output_type": "error",
          "ename": "KeyboardInterrupt",
          "evalue": "",
          "traceback": [
            "\u001b[0;31m---------------------------------------------------------------------------\u001b[0m",
            "\u001b[0;31mKeyboardInterrupt\u001b[0m                         Traceback (most recent call last)",
            "\u001b[0;32m<ipython-input-9-7f3e0ca9fb7f>\u001b[0m in \u001b[0;36m<cell line: 1>\u001b[0;34m()\u001b[0m\n\u001b[0;32m----> 1\u001b[0;31m \u001b[0monly_number\u001b[0m\u001b[0;34m(\u001b[0m\u001b[0;34m[\u001b[0m\u001b[0;36m1\u001b[0m\u001b[0;34m,\u001b[0m\u001b[0;36m2.5\u001b[0m\u001b[0;34m,\u001b[0m\u001b[0;36m3\u001b[0m\u001b[0;34m,\u001b[0m\u001b[0;34m\"Avinash\"\u001b[0m\u001b[0;34m,\u001b[0m\u001b[0;36m3\u001b[0m\u001b[0;34m+\u001b[0m\u001b[0;36m5j\u001b[0m\u001b[0;34m,\u001b[0m\u001b[0;34m[\u001b[0m\u001b[0;36m10\u001b[0m\u001b[0;34m,\u001b[0m\u001b[0;36m20\u001b[0m\u001b[0;34m,\u001b[0m\u001b[0;34m\"Tina\"\u001b[0m\u001b[0;34m]\u001b[0m\u001b[0;34m]\u001b[0m\u001b[0;34m)\u001b[0m\u001b[0;34m\u001b[0m\u001b[0;34m\u001b[0m\u001b[0m\n\u001b[0m",
            "\u001b[0;32m<ipython-input-8-0cc5ad0b501c>\u001b[0m in \u001b[0;36monly_number\u001b[0;34m(a)\u001b[0m\n\u001b[1;32m      7\u001b[0m           \u001b[0mn\u001b[0m\u001b[0;34m.\u001b[0m\u001b[0mappend\u001b[0m\u001b[0;34m(\u001b[0m\u001b[0mj\u001b[0m\u001b[0;34m)\u001b[0m\u001b[0;34m\u001b[0m\u001b[0;34m\u001b[0m\u001b[0m\n\u001b[1;32m      8\u001b[0m           \u001b[0;32mwhile\u001b[0m \u001b[0mtype\u001b[0m\u001b[0;34m(\u001b[0m\u001b[0ma\u001b[0m\u001b[0;34m)\u001b[0m \u001b[0;34m==\u001b[0m \u001b[0mlist\u001b[0m\u001b[0;34m:\u001b[0m\u001b[0;34m\u001b[0m\u001b[0;34m\u001b[0m\u001b[0m\n\u001b[0;32m----> 9\u001b[0;31m             \u001b[0;32mif\u001b[0m \u001b[0mtype\u001b[0m\u001b[0;34m(\u001b[0m\u001b[0ma\u001b[0m\u001b[0;34m)\u001b[0m \u001b[0;34m==\u001b[0m \u001b[0mint\u001b[0m \u001b[0;32mor\u001b[0m \u001b[0mtype\u001b[0m\u001b[0;34m(\u001b[0m\u001b[0ma\u001b[0m\u001b[0;34m)\u001b[0m \u001b[0;34m==\u001b[0m \u001b[0mfloat\u001b[0m\u001b[0;34m:\u001b[0m\u001b[0;34m\u001b[0m\u001b[0;34m\u001b[0m\u001b[0m\n\u001b[0m\u001b[1;32m     10\u001b[0m               \u001b[0mn\u001b[0m\u001b[0;34m.\u001b[0m\u001b[0mappend\u001b[0m\u001b[0;34m(\u001b[0m\u001b[0ma\u001b[0m\u001b[0;34m)\u001b[0m\u001b[0;34m\u001b[0m\u001b[0;34m\u001b[0m\u001b[0m\n\u001b[1;32m     11\u001b[0m               \u001b[0;32mreturn\u001b[0m\u001b[0;34m(\u001b[0m\u001b[0mn\u001b[0m\u001b[0;34m)\u001b[0m\u001b[0;34m\u001b[0m\u001b[0;34m\u001b[0m\u001b[0m\n",
            "\u001b[0;31mKeyboardInterrupt\u001b[0m: "
          ]
        }
      ]
    },
    {
      "cell_type": "code",
      "source": [
        "def sum(a,b):\n",
        "  return a+b"
      ],
      "metadata": {
        "id": "vI1XHULsZBf_"
      },
      "execution_count": null,
      "outputs": []
    },
    {
      "cell_type": "code",
      "source": [
        "sum(2,5)"
      ],
      "metadata": {
        "colab": {
          "base_uri": "https://localhost:8080/"
        },
        "id": "5KeMsIfNodRe",
        "outputId": "fc79a3d2-376a-4943-a397-08ada1e335e3"
      },
      "execution_count": null,
      "outputs": [
        {
          "output_type": "execute_result",
          "data": {
            "text/plain": [
              "7"
            ]
          },
          "metadata": {},
          "execution_count": 11
        }
      ]
    },
    {
      "cell_type": "code",
      "source": [
        "sum(3,4,5)"
      ],
      "metadata": {
        "colab": {
          "base_uri": "https://localhost:8080/",
          "height": 141
        },
        "id": "WovreWCSohqk",
        "outputId": "092e5dc6-e6a7-4167-85ce-ad084f054670"
      },
      "execution_count": null,
      "outputs": [
        {
          "output_type": "error",
          "ename": "TypeError",
          "evalue": "sum() takes 2 positional arguments but 3 were given",
          "traceback": [
            "\u001b[0;31m---------------------------------------------------------------------------\u001b[0m",
            "\u001b[0;31mTypeError\u001b[0m                                 Traceback (most recent call last)",
            "\u001b[0;32m<ipython-input-12-4facfab87e6c>\u001b[0m in \u001b[0;36m<cell line: 1>\u001b[0;34m()\u001b[0m\n\u001b[0;32m----> 1\u001b[0;31m \u001b[0msum\u001b[0m\u001b[0;34m(\u001b[0m\u001b[0;36m3\u001b[0m\u001b[0;34m,\u001b[0m\u001b[0;36m4\u001b[0m\u001b[0;34m,\u001b[0m\u001b[0;36m5\u001b[0m\u001b[0;34m)\u001b[0m\u001b[0;34m\u001b[0m\u001b[0;34m\u001b[0m\u001b[0m\n\u001b[0m",
            "\u001b[0;31mTypeError\u001b[0m: sum() takes 2 positional arguments but 3 were given"
          ]
        }
      ]
    },
    {
      "cell_type": "code",
      "source": [
        "#variable length argument>> when u dont know number of arguments"
      ],
      "metadata": {
        "id": "a6vGF8rYokZO"
      },
      "execution_count": null,
      "outputs": []
    },
    {
      "cell_type": "code",
      "source": [
        "def sum1(*args):   #* >>> variable argument\n",
        "  return args"
      ],
      "metadata": {
        "id": "OefV5Dr5ox91"
      },
      "execution_count": null,
      "outputs": []
    },
    {
      "cell_type": "code",
      "source": [
        "sum1(1,2)"
      ],
      "metadata": {
        "colab": {
          "base_uri": "https://localhost:8080/"
        },
        "id": "1Rt8E8aIgfrG",
        "outputId": "1de4065c-1a4d-479a-eae4-f8818cbb23ca"
      },
      "execution_count": null,
      "outputs": [
        {
          "output_type": "execute_result",
          "data": {
            "text/plain": [
              "(1, 2)"
            ]
          },
          "metadata": {},
          "execution_count": 2
        }
      ]
    },
    {
      "cell_type": "code",
      "source": [
        "sum1(1,2,3,4,5,6,7,8,9,10)"
      ],
      "metadata": {
        "colab": {
          "base_uri": "https://localhost:8080/"
        },
        "id": "8weVXaKIghwc",
        "outputId": "2e8fe0ea-2f1c-4339-e18a-10823cf47e04"
      },
      "execution_count": null,
      "outputs": [
        {
          "output_type": "execute_result",
          "data": {
            "text/plain": [
              "(1, 2, 3, 4, 5, 6, 7, 8, 9, 10)"
            ]
          },
          "metadata": {},
          "execution_count": 4
        }
      ]
    },
    {
      "cell_type": "code",
      "source": [
        "type(sum1())"
      ],
      "metadata": {
        "colab": {
          "base_uri": "https://localhost:8080/"
        },
        "id": "s90bvJJThX_r",
        "outputId": "6d111561-3925-4dbe-f08c-73b7441c5ba3"
      },
      "execution_count": null,
      "outputs": [
        {
          "output_type": "execute_result",
          "data": {
            "text/plain": [
              "tuple"
            ]
          },
          "metadata": {},
          "execution_count": 6
        }
      ]
    },
    {
      "cell_type": "code",
      "source": [
        "# A Function which can take any number of value and return the sum"
      ],
      "metadata": {
        "id": "RPaHV7Iygla2"
      },
      "execution_count": null,
      "outputs": []
    },
    {
      "cell_type": "code",
      "source": [
        "def sum2(*args):\n",
        "  sum = 0\n",
        "  for i in args:\n",
        "    sum = sum + i\n",
        "  return sum"
      ],
      "metadata": {
        "id": "inrSEHA4hQ8V"
      },
      "execution_count": null,
      "outputs": []
    },
    {
      "cell_type": "code",
      "source": [
        "sum2(1,2,3,4,5,6,7,8)"
      ],
      "metadata": {
        "colab": {
          "base_uri": "https://localhost:8080/"
        },
        "id": "io_JD_8MjF2m",
        "outputId": "9cea3aeb-1f21-4858-9d0d-c798e11ff756"
      },
      "execution_count": null,
      "outputs": [
        {
          "output_type": "execute_result",
          "data": {
            "text/plain": [
              "36"
            ]
          },
          "metadata": {},
          "execution_count": 8
        }
      ]
    },
    {
      "cell_type": "code",
      "source": [
        "sum2(10,12,15,25,30)"
      ],
      "metadata": {
        "colab": {
          "base_uri": "https://localhost:8080/"
        },
        "id": "vLl_i59OjZox",
        "outputId": "8f9a3310-a455-44c6-e8e3-17c9d7240632"
      },
      "execution_count": null,
      "outputs": [
        {
          "output_type": "execute_result",
          "data": {
            "text/plain": [
              "92"
            ]
          },
          "metadata": {},
          "execution_count": 9
        }
      ]
    },
    {
      "cell_type": "code",
      "source": [
        "#Variable argument with default argument\n",
        "def test(*args, a):\n",
        "  return args,a"
      ],
      "metadata": {
        "id": "a6K4Hf-tjjvN"
      },
      "execution_count": null,
      "outputs": []
    },
    {
      "cell_type": "code",
      "source": [
        "test(1,2,3,4,5,a=\"Ram\")"
      ],
      "metadata": {
        "colab": {
          "base_uri": "https://localhost:8080/"
        },
        "id": "-VRqEwr6qNA2",
        "outputId": "4f3ed137-62ee-48fb-9bee-9f3dbd216a18"
      },
      "execution_count": null,
      "outputs": [
        {
          "output_type": "execute_result",
          "data": {
            "text/plain": [
              "((1, 2, 3, 4, 5), 'Ram')"
            ]
          },
          "metadata": {},
          "execution_count": 11
        }
      ]
    },
    {
      "cell_type": "code",
      "source": [
        "test(1,1,1,2,3)   #error"
      ],
      "metadata": {
        "colab": {
          "base_uri": "https://localhost:8080/",
          "height": 141
        },
        "id": "VwTT82hqqT6N",
        "outputId": "42bf65ed-6868-4c2b-9504-e52cbfddbe04"
      },
      "execution_count": null,
      "outputs": [
        {
          "output_type": "error",
          "ename": "TypeError",
          "evalue": "test() missing 1 required keyword-only argument: 'a'",
          "traceback": [
            "\u001b[0;31m---------------------------------------------------------------------------\u001b[0m",
            "\u001b[0;31mTypeError\u001b[0m                                 Traceback (most recent call last)",
            "\u001b[0;32m<ipython-input-12-5ac5b6ea33e3>\u001b[0m in \u001b[0;36m<cell line: 1>\u001b[0;34m()\u001b[0m\n\u001b[0;32m----> 1\u001b[0;31m \u001b[0mtest\u001b[0m\u001b[0;34m(\u001b[0m\u001b[0;36m1\u001b[0m\u001b[0;34m,\u001b[0m\u001b[0;36m1\u001b[0m\u001b[0;34m,\u001b[0m\u001b[0;36m1\u001b[0m\u001b[0;34m,\u001b[0m\u001b[0;36m2\u001b[0m\u001b[0;34m,\u001b[0m\u001b[0;36m3\u001b[0m\u001b[0;34m)\u001b[0m\u001b[0;34m\u001b[0m\u001b[0;34m\u001b[0m\u001b[0m\n\u001b[0m",
            "\u001b[0;31mTypeError\u001b[0m: test() missing 1 required keyword-only argument: 'a'"
          ]
        }
      ]
    },
    {
      "cell_type": "code",
      "source": [
        "#Variable argument >> takes any no of argument\n",
        "#positional argument >> fixed argument"
      ],
      "metadata": {
        "id": "hNl03ONdqbb2"
      },
      "execution_count": null,
      "outputs": []
    },
    {
      "cell_type": "code",
      "source": [
        "#write a function which can take any number of values but returns the list"
      ],
      "metadata": {
        "id": "YsFxaL7qvWQB"
      },
      "execution_count": null,
      "outputs": []
    },
    {
      "cell_type": "code",
      "source": [
        "def return_list(*args):\n",
        "  l = []\n",
        "  for i in args:\n",
        "    if type(i) == list:\n",
        "      l.append(i)\n",
        "  return l"
      ],
      "metadata": {
        "id": "xPkFC3lmvfOa"
      },
      "execution_count": null,
      "outputs": []
    },
    {
      "cell_type": "code",
      "source": [
        "return_list(1,2,3,4,5_7j,{2,3},[20,30,40,[50,60,70]],[1,2,3,4],(2,3),True,\"Tina\")"
      ],
      "metadata": {
        "colab": {
          "base_uri": "https://localhost:8080/"
        },
        "id": "r7WfqUgovwRT",
        "outputId": "9e4dc957-8764-47e8-c29e-2c0b8856bf7b"
      },
      "execution_count": null,
      "outputs": [
        {
          "output_type": "execute_result",
          "data": {
            "text/plain": [
              "[[20, 30, 40, [50, 60, 70]], [1, 2, 3, 4]]"
            ]
          },
          "metadata": {},
          "execution_count": 54
        }
      ]
    },
    {
      "cell_type": "code",
      "source": [
        "def return_list(*args):\n",
        "  l = []\n",
        "  for i in args:\n",
        "    if type(i) == list:\n",
        "      l.append(i)\n",
        "      return l        #take a look at indentation of return function>> its important >> its under for loop"
      ],
      "metadata": {
        "id": "tuitz3vlATmx"
      },
      "execution_count": null,
      "outputs": []
    },
    {
      "cell_type": "code",
      "source": [
        "return_list(1,2,3,4,5,{1,2,3,4,5},(1,2,3,4,5),[10,20,30,[40,50,60]],[100,200,300,400])"
      ],
      "metadata": {
        "colab": {
          "base_uri": "https://localhost:8080/"
        },
        "id": "he3ShvgpBB8T",
        "outputId": "a5e6dae9-2977-4fe1-bee6-5678d20f9bba"
      },
      "execution_count": null,
      "outputs": [
        {
          "output_type": "execute_result",
          "data": {
            "text/plain": [
              "[[10, 20, 30, [40, 50, 60]]]"
            ]
          },
          "metadata": {},
          "execution_count": 52
        }
      ]
    },
    {
      "cell_type": "code",
      "source": [
        "def team(name,project):\n",
        "  return f\"{name} is working on {project} project.\""
      ],
      "metadata": {
        "id": "ZlIYOCZEBYZa"
      },
      "execution_count": null,
      "outputs": []
    },
    {
      "cell_type": "code",
      "source": [
        "team(\"Rahul\",\"Python\")"
      ],
      "metadata": {
        "colab": {
          "base_uri": "https://localhost:8080/",
          "height": 36
        },
        "id": "xgueiPn5CjVG",
        "outputId": "cdfb05cf-f188-432f-8d46-f2faf5db94ac"
      },
      "execution_count": null,
      "outputs": [
        {
          "output_type": "execute_result",
          "data": {
            "text/plain": [
              "'Rahul is working on Python project.'"
            ],
            "application/vnd.google.colaboratory.intrinsic+json": {
              "type": "string"
            }
          },
          "metadata": {},
          "execution_count": 60
        }
      ]
    },
    {
      "cell_type": "code",
      "source": [
        "#variable length argument and keyword argument together"
      ],
      "metadata": {
        "id": "nvFFVCDfCmwq"
      },
      "execution_count": null,
      "outputs": []
    },
    {
      "cell_type": "code",
      "source": [
        "def test1(*args,**args1):\n",
        "  return args,args1"
      ],
      "metadata": {
        "id": "2TVrJdR7C5_g"
      },
      "execution_count": null,
      "outputs": []
    },
    {
      "cell_type": "code",
      "source": [
        "test1(1,2,3,4,5,a=100,b=\"tinaa\")"
      ],
      "metadata": {
        "colab": {
          "base_uri": "https://localhost:8080/"
        },
        "id": "ULabL5MXDDYp",
        "outputId": "e4a1db79-1631-4742-ff2a-1b96980510b0"
      },
      "execution_count": null,
      "outputs": [
        {
          "output_type": "execute_result",
          "data": {
            "text/plain": [
              "((1, 2, 3, 4, 5), {'a': 100, 'b': 'tinaa'})"
            ]
          },
          "metadata": {},
          "execution_count": 65
        }
      ]
    },
    {
      "cell_type": "code",
      "source": [
        "test1()"
      ],
      "metadata": {
        "colab": {
          "base_uri": "https://localhost:8080/"
        },
        "id": "KqPDYllhDLXJ",
        "outputId": "b4049a1c-d1ed-4573-def3-e3c020b22ab5"
      },
      "execution_count": null,
      "outputs": [
        {
          "output_type": "execute_result",
          "data": {
            "text/plain": [
              "((), {})"
            ]
          },
          "metadata": {},
          "execution_count": 66
        }
      ]
    },
    {
      "cell_type": "code",
      "source": [
        "#python namespace\n",
        "\n",
        "def greet():\n",
        "  message = \"Hello, Welcome\" #message variable is aa locaal variable (to this function)>>>scope is only inside the function >it will be accesable\n",
        "  print(message)\n"
      ],
      "metadata": {
        "id": "sPmCFf4iEFSV"
      },
      "execution_count": null,
      "outputs": []
    },
    {
      "cell_type": "code",
      "source": [
        "greet()"
      ],
      "metadata": {
        "colab": {
          "base_uri": "https://localhost:8080/"
        },
        "id": "NVS78FKfEl26",
        "outputId": "afedb85e-faf8-4bdd-be55-e9bd8ede0076"
      },
      "execution_count": null,
      "outputs": [
        {
          "output_type": "stream",
          "name": "stdout",
          "text": [
            "Hello, Welcome\n"
          ]
        }
      ]
    },
    {
      "cell_type": "code",
      "source": [
        "print(message)"
      ],
      "metadata": {
        "colab": {
          "base_uri": "https://localhost:8080/",
          "height": 141
        },
        "id": "pATulYT3EqFt",
        "outputId": "5bbd98c8-28ca-4fe3-f088-4a29a638bf79"
      },
      "execution_count": null,
      "outputs": [
        {
          "output_type": "error",
          "ename": "NameError",
          "evalue": "name 'message' is not defined",
          "traceback": [
            "\u001b[0;31m---------------------------------------------------------------------------\u001b[0m",
            "\u001b[0;31mNameError\u001b[0m                                 Traceback (most recent call last)",
            "\u001b[0;32m<ipython-input-70-83cfdf559502>\u001b[0m in \u001b[0;36m<cell line: 1>\u001b[0;34m()\u001b[0m\n\u001b[0;32m----> 1\u001b[0;31m \u001b[0mprint\u001b[0m\u001b[0;34m(\u001b[0m\u001b[0mmessage\u001b[0m\u001b[0;34m)\u001b[0m\u001b[0;34m\u001b[0m\u001b[0;34m\u001b[0m\u001b[0m\n\u001b[0m",
            "\u001b[0;31mNameError\u001b[0m: name 'message' is not defined"
          ]
        }
      ]
    },
    {
      "cell_type": "code",
      "source": [
        "subpart = \"To the course\"  #global variable >> it can be accesed outside the function\n",
        "def greet():\n",
        "  message = \"Hello , Welcome \" + subpart    #message will not be accessed outside the function because it was defined inside the function.\n",
        "  print(message)"
      ],
      "metadata": {
        "id": "vg0lyZEKEzLo"
      },
      "execution_count": null,
      "outputs": []
    },
    {
      "cell_type": "code",
      "source": [
        "greet()"
      ],
      "metadata": {
        "colab": {
          "base_uri": "https://localhost:8080/"
        },
        "id": "9Osg0q2EFzKq",
        "outputId": "779fecd6-9b47-437a-9c62-58c7998cad94"
      },
      "execution_count": null,
      "outputs": [
        {
          "output_type": "stream",
          "name": "stdout",
          "text": [
            "Hello , Welcome To the course\n"
          ]
        }
      ]
    },
    {
      "cell_type": "code",
      "source": [
        "#namespace >> scope of variable\n",
        "#local variable>> a function defined inside a function should be accessed in the function only\n",
        "#global variable>> it can be accessed any where"
      ],
      "metadata": {
        "id": "rmn4VtdGF1qq"
      },
      "execution_count": null,
      "outputs": []
    },
    {
      "cell_type": "code",
      "source": [
        "#Function inside function\n",
        "\n",
        "def marks_in_subject(**kwaargs):\n",
        "  return kwaargs"
      ],
      "metadata": {
        "id": "WZb5-LOyG75H"
      },
      "execution_count": null,
      "outputs": []
    },
    {
      "cell_type": "code",
      "source": [
        "def marks_in_subject(**kwargs):\n",
        "  marks_list = []\n",
        "  for sub, marks in kwargs.items():\n",
        "    marks_list.append(marks)\n",
        "\n",
        "  return marks_list"
      ],
      "metadata": {
        "id": "Gwk3dIl2Rypl"
      },
      "execution_count": null,
      "outputs": []
    },
    {
      "cell_type": "code",
      "source": [
        "marks_in_subject(a =90,b =20)"
      ],
      "metadata": {
        "colab": {
          "base_uri": "https://localhost:8080/"
        },
        "id": "1ViqEYe9SQ0y",
        "outputId": "4c43661e-4bf2-445c-f22a-3999fc9f6c0d"
      },
      "execution_count": null,
      "outputs": [
        {
          "output_type": "execute_result",
          "data": {
            "text/plain": [
              "[90, 20]"
            ]
          },
          "metadata": {},
          "execution_count": 80
        }
      ]
    },
    {
      "cell_type": "code",
      "source": [
        "def marks_in_subject(**kwargs):\n",
        "  def total_marks(marks_list):\n",
        "    return sum(marks_list)\n",
        "  marks_list = []\n",
        "  for sub, marks in kwargs.items():\n",
        "    marks_list.append(marks)\n",
        "\n",
        "  return marks_list"
      ],
      "metadata": {
        "id": "PVHvnjIkSX0C"
      },
      "execution_count": null,
      "outputs": []
    },
    {
      "cell_type": "code",
      "source": [
        "sum([90,20])"
      ],
      "metadata": {
        "colab": {
          "base_uri": "https://localhost:8080/"
        },
        "id": "Clf_Z9TQXJXj",
        "outputId": "47446023-c298-4db2-8ad9-9267a1df2eb4"
      },
      "execution_count": null,
      "outputs": [
        {
          "output_type": "execute_result",
          "data": {
            "text/plain": [
              "110"
            ]
          },
          "metadata": {},
          "execution_count": 82
        }
      ]
    },
    {
      "cell_type": "code",
      "source": [
        "def marks_in_subject(**kwargs):\n",
        "  def total_marks(marks_list):     #it cant be used by other functions because its is called out from inside a function\n",
        "    return sum(marks_list)        #IT IS ACTING AS A LOCAL FUNCTION\n",
        "  marks_list = []\n",
        "  for sub, marks in kwargs.items():\n",
        "    marks_list.append(marks)\n",
        "\n",
        "  return total_marks(marks_list)"
      ],
      "metadata": {
        "id": "ldATL_8OXMZo"
      },
      "execution_count": null,
      "outputs": []
    },
    {
      "cell_type": "code",
      "source": [
        "marks_in_subject(a = 30,b = 20,c = 60)"
      ],
      "metadata": {
        "colab": {
          "base_uri": "https://localhost:8080/"
        },
        "id": "H8lpHwIvXWIw",
        "outputId": "02902afe-794f-45f7-aee6-c67c3feaf7d5"
      },
      "execution_count": null,
      "outputs": [
        {
          "output_type": "execute_result",
          "data": {
            "text/plain": [
              "110"
            ]
          },
          "metadata": {},
          "execution_count": 86
        }
      ]
    },
    {
      "cell_type": "code",
      "source": [
        "#calling function from outside\n"
      ],
      "metadata": {
        "id": "peTOOrG1Xabc"
      },
      "execution_count": null,
      "outputs": []
    },
    {
      "cell_type": "code",
      "source": [
        "def total_marks(marks_list):   #benefit of calling function frome outside is that now it can be used by other functions aswell\n",
        "  return sum(marks_list)       #IT IS ACTING AS A GOLABAL FUNCTION.\n",
        "\n",
        "def marks_in_subject(**kwargs):\n",
        "  marks_list = []\n",
        "  for sub, marks in kwargs.items():\n",
        "    marks_list.append(marks)\n",
        "\n",
        "  return total_marks(marks_list)"
      ],
      "metadata": {
        "id": "YLjNNojOXyif"
      },
      "execution_count": null,
      "outputs": []
    },
    {
      "cell_type": "code",
      "source": [
        "total_marks([90,20])"
      ],
      "metadata": {
        "colab": {
          "base_uri": "https://localhost:8080/"
        },
        "id": "Fi_FKiczpSvv",
        "outputId": "a96e663a-d5ce-4025-f6cb-6341b62e17f3"
      },
      "execution_count": null,
      "outputs": [
        {
          "output_type": "execute_result",
          "data": {
            "text/plain": [
              "110"
            ]
          },
          "metadata": {},
          "execution_count": 3
        }
      ]
    },
    {
      "cell_type": "code",
      "source": [
        "marks_in_subject(a = 30,b = 20,c = 60)"
      ],
      "metadata": {
        "colab": {
          "base_uri": "https://localhost:8080/"
        },
        "id": "dp6tUAMjp_58",
        "outputId": "6a5e4436-2b2b-44d2-b510-80c6aa6935db"
      },
      "execution_count": null,
      "outputs": [
        {
          "output_type": "execute_result",
          "data": {
            "text/plain": [
              "110"
            ]
          },
          "metadata": {},
          "execution_count": 4
        }
      ]
    },
    {
      "cell_type": "code",
      "source": [
        "def find_power(num,power):\n",
        "  return num**power    #Double** is used to find the power of a number"
      ],
      "metadata": {
        "id": "OHtZRSRRqDA_"
      },
      "execution_count": null,
      "outputs": []
    },
    {
      "cell_type": "code",
      "source": [
        "find_power(2,10)"
      ],
      "metadata": {
        "colab": {
          "base_uri": "https://localhost:8080/"
        },
        "id": "lTRJjznCqkzs",
        "outputId": "ab4d5ffb-1a30-4606-de09-96fe13ac855f"
      },
      "execution_count": null,
      "outputs": [
        {
          "output_type": "execute_result",
          "data": {
            "text/plain": [
              "1024"
            ]
          },
          "metadata": {},
          "execution_count": 6
        }
      ]
    },
    {
      "cell_type": "code",
      "source": [
        "#writing the descripition of a function useing doc string.\n",
        "def find_power(num, power):\n",
        "  \"\"\"This function will return the power of number\n",
        "  Args:\n",
        "      num(int): proviede any integer as input\n",
        "      power(int): provide power as integer\n",
        "  Returns:\n",
        "        integer :the power of number\n",
        "  \"\"\"\n",
        "  return num**power\n",
        "\n"
      ],
      "metadata": {
        "id": "V_-EqF37qoxE"
      },
      "execution_count": null,
      "outputs": []
    },
    {
      "cell_type": "code",
      "source": [
        "help(find_power)"
      ],
      "metadata": {
        "colab": {
          "base_uri": "https://localhost:8080/"
        },
        "id": "F0ZZcM40rP_T",
        "outputId": "9ebeae93-484a-4ff1-d5d6-2a33d33765ad"
      },
      "execution_count": null,
      "outputs": [
        {
          "output_type": "stream",
          "name": "stdout",
          "text": [
            "Help on function find_power in module __main__:\n",
            "\n",
            "find_power(num, power)\n",
            "    This function will return the power of number\n",
            "    Args:\n",
            "        num(int): proviede any integer as input\n",
            "        power(int): provide power as integer\n",
            "    Returns:\n",
            "          integer :the power of number\n",
            "\n"
          ]
        }
      ]
    },
    {
      "cell_type": "code",
      "source": [
        "print (find_power.__doc__)"
      ],
      "metadata": {
        "colab": {
          "base_uri": "https://localhost:8080/"
        },
        "id": "kuBjD-PSsJJB",
        "outputId": "7ea37a78-7a3e-4772-a744-c2547afbd503"
      },
      "execution_count": null,
      "outputs": [
        {
          "output_type": "stream",
          "name": "stdout",
          "text": [
            "This function will return the power of number\n",
            "  Args:\n",
            "      num(int): proviede any integer as input\n",
            "      power(int): provide power as integer\n",
            "  Returns:\n",
            "        integer :the power of number\n",
            "  \n"
          ]
        }
      ]
    },
    {
      "cell_type": "markdown",
      "source": [
        "# **ITERATORS AND GENERATORS**"
      ],
      "metadata": {
        "id": "6_iMpAvGsqPH"
      }
    },
    {
      "cell_type": "code",
      "source": [
        "for i in \"TIna\":\n",
        "  print(i)"
      ],
      "metadata": {
        "colab": {
          "base_uri": "https://localhost:8080/"
        },
        "id": "IuWvyq9nZxPM",
        "outputId": "f97f8107-4c92-4007-8438-a9ec81693a4c"
      },
      "execution_count": null,
      "outputs": [
        {
          "output_type": "stream",
          "name": "stdout",
          "text": [
            "T\n",
            "I\n",
            "n\n",
            "a\n"
          ]
        }
      ]
    },
    {
      "cell_type": "code",
      "source": [
        "for i in [\"Apple\",\"Banana\",\"Mango\"]:\n",
        "  print(i)"
      ],
      "metadata": {
        "colab": {
          "base_uri": "https://localhost:8080/"
        },
        "id": "QT4dLC5ZZnEI",
        "outputId": "e8fca482-b586-4834-e043-9fec862e2c34"
      },
      "execution_count": null,
      "outputs": [
        {
          "output_type": "stream",
          "name": "stdout",
          "text": [
            "Apple\n",
            "Banana\n",
            "Mango\n"
          ]
        }
      ]
    },
    {
      "cell_type": "code",
      "source": [
        "for i in {1,2,3,4,\"Minal\"}:\n",
        "  print(i)"
      ],
      "metadata": {
        "colab": {
          "base_uri": "https://localhost:8080/"
        },
        "id": "QfgMvh0rZm9O",
        "outputId": "ea7f93ee-bd6d-4e6c-d191-c9a578bc858e"
      },
      "execution_count": null,
      "outputs": [
        {
          "output_type": "stream",
          "name": "stdout",
          "text": [
            "1\n",
            "2\n",
            "3\n",
            "4\n",
            "Minal\n"
          ]
        }
      ]
    },
    {
      "cell_type": "code",
      "source": [
        "for i in {\"Key\":\"pair\",\"Name\":\"Vanshika\",\"Age\":20}:\n",
        "  print(i)"
      ],
      "metadata": {
        "colab": {
          "base_uri": "https://localhost:8080/"
        },
        "id": "OaNmWn1JZmzu",
        "outputId": "97e613ae-76cf-4d8b-d2ff-334aa95edc23"
      },
      "execution_count": null,
      "outputs": [
        {
          "output_type": "stream",
          "name": "stdout",
          "text": [
            "Key\n",
            "Name\n",
            "Age\n"
          ]
        }
      ]
    },
    {
      "cell_type": "code",
      "source": [
        "for i in 5:\n",
        "  print"
      ],
      "metadata": {
        "colab": {
          "base_uri": "https://localhost:8080/",
          "height": 162
        },
        "id": "ICeU3Ldbsp3v",
        "outputId": "b8181631-7b8e-487c-f62a-74339beba565"
      },
      "execution_count": null,
      "outputs": [
        {
          "output_type": "error",
          "ename": "TypeError",
          "evalue": "'int' object is not iterable",
          "traceback": [
            "\u001b[0;31m---------------------------------------------------------------------------\u001b[0m",
            "\u001b[0;31mTypeError\u001b[0m                                 Traceback (most recent call last)",
            "\u001b[0;32m<ipython-input-7-2e0324cb689c>\u001b[0m in \u001b[0;36m<cell line: 1>\u001b[0;34m()\u001b[0m\n\u001b[0;32m----> 1\u001b[0;31m \u001b[0;32mfor\u001b[0m \u001b[0mi\u001b[0m \u001b[0;32min\u001b[0m \u001b[0;36m5\u001b[0m\u001b[0;34m:\u001b[0m\u001b[0;34m\u001b[0m\u001b[0;34m\u001b[0m\u001b[0m\n\u001b[0m\u001b[1;32m      2\u001b[0m   \u001b[0mprint\u001b[0m\u001b[0;34m\u001b[0m\u001b[0;34m\u001b[0m\u001b[0m\n",
            "\u001b[0;31mTypeError\u001b[0m: 'int' object is not iterable"
          ]
        }
      ]
    },
    {
      "cell_type": "code",
      "source": [
        "#iterable >> an iterable is any python object/sequential structure/data structure that is capable of returing its members one at a time\n",
        "#permitting it to be iterated over in a for loop (Using for loop or While loop)\n",
        "#example >> lists,tuples, etc."
      ],
      "metadata": {
        "id": "Id8YbIBFtbcC"
      },
      "execution_count": null,
      "outputs": []
    },
    {
      "cell_type": "code",
      "source": [
        "lis = [1,2,3,4,5,\"Tina\"]    #List is an iteratble object\n",
        "for i in lis:\n",
        "  print(i)"
      ],
      "metadata": {
        "colab": {
          "base_uri": "https://localhost:8080/"
        },
        "id": "2vsGvEdZbMFH",
        "outputId": "4cba9b17-ab79-4286-bcab-05cf6a602a5f"
      },
      "execution_count": null,
      "outputs": [
        {
          "output_type": "stream",
          "name": "stdout",
          "text": [
            "1\n",
            "2\n",
            "3\n",
            "4\n",
            "5\n",
            "Tina\n"
          ]
        }
      ]
    },
    {
      "cell_type": "code",
      "source": [
        "#iteration >> iteration is the process of looping through the element of an iterable(lists,strings)\n",
        "#and it is done using loop\n",
        "#The process of returing element one by one iteration"
      ],
      "metadata": {
        "id": "RZpIP9zIkQcF"
      },
      "execution_count": null,
      "outputs": []
    },
    {
      "cell_type": "code",
      "source": [
        "for i in \"PWskills\":\n",
        "  print(i)"
      ],
      "metadata": {
        "colab": {
          "base_uri": "https://localhost:8080/"
        },
        "id": "C20F81tHlJ5a",
        "outputId": "2a37bfc6-df65-413f-e7ce-37edd0fedb8e"
      },
      "execution_count": null,
      "outputs": [
        {
          "output_type": "stream",
          "name": "stdout",
          "text": [
            "P\n",
            "W\n",
            "s\n",
            "k\n",
            "i\n",
            "l\n",
            "l\n",
            "s\n"
          ]
        }
      ]
    },
    {
      "cell_type": "code",
      "source": [
        "#iterator >>> an iterator is an object representing a stream of data>> return the data one by one.\n",
        "#Analogy\n",
        "#Potato(iterable) >> it can not be cooked in original form\n",
        "#Chop/wash the potato >> ready for cooking >> iterator\n",
        "#the process of cooking >>iteration"
      ],
      "metadata": {
        "id": "658U_g_rlZo5"
      },
      "execution_count": null,
      "outputs": []
    },
    {
      "cell_type": "code",
      "source": [
        "s = \"PW Skills\"  #string is iterable"
      ],
      "metadata": {
        "id": "dR1dZIm2p5Jz"
      },
      "execution_count": null,
      "outputs": []
    },
    {
      "cell_type": "code",
      "source": [
        "for i in s:     #How python decided that s should be iterated >> comes the concept of iterator\n",
        "  print(i)"
      ],
      "metadata": {
        "colab": {
          "base_uri": "https://localhost:8080/"
        },
        "id": "F_z6gI5Op86q",
        "outputId": "46aca147-b275-49ee-d595-6351a5f938aa"
      },
      "execution_count": null,
      "outputs": [
        {
          "output_type": "stream",
          "name": "stdout",
          "text": [
            "P\n",
            "W\n",
            " \n",
            "S\n",
            "k\n",
            "i\n",
            "l\n",
            "l\n",
            "s\n"
          ]
        }
      ]
    },
    {
      "cell_type": "code",
      "source": [
        "#python >> can I prepare s for iteration\n",
        "\n",
        "iter(s)    #iterator object >> Ready to be iterated"
      ],
      "metadata": {
        "colab": {
          "base_uri": "https://localhost:8080/"
        },
        "id": "D3pqw8yEqHdy",
        "outputId": "8221580f-c287-4177-83e8-fb5258d6d962"
      },
      "execution_count": null,
      "outputs": [
        {
          "output_type": "execute_result",
          "data": {
            "text/plain": [
              "<str_iterator at 0x7b49a89f09a0>"
            ]
          },
          "metadata": {},
          "execution_count": 20
        }
      ]
    },
    {
      "cell_type": "code",
      "source": [
        "a = iter(s)\n",
        "a"
      ],
      "metadata": {
        "colab": {
          "base_uri": "https://localhost:8080/"
        },
        "id": "b9s2PkKzqm6u",
        "outputId": "7f8eda77-774e-4f43-f356-2ecfd59cb943"
      },
      "execution_count": null,
      "outputs": [
        {
          "output_type": "execute_result",
          "data": {
            "text/plain": [
              "<str_iterator at 0x7b49a88b92d0>"
            ]
          },
          "metadata": {},
          "execution_count": 21
        }
      ]
    },
    {
      "cell_type": "code",
      "source": [
        "next(a)"
      ],
      "metadata": {
        "colab": {
          "base_uri": "https://localhost:8080/",
          "height": 36
        },
        "id": "pmkZJgWjq4-m",
        "outputId": "e0990bd5-7b3a-4e81-fae3-daf368888138"
      },
      "execution_count": null,
      "outputs": [
        {
          "output_type": "execute_result",
          "data": {
            "text/plain": [
              "'P'"
            ],
            "application/vnd.google.colaboratory.intrinsic+json": {
              "type": "string"
            }
          },
          "metadata": {},
          "execution_count": 22
        }
      ]
    },
    {
      "cell_type": "code",
      "source": [
        "next(a)"
      ],
      "metadata": {
        "colab": {
          "base_uri": "https://localhost:8080/",
          "height": 36
        },
        "id": "bdxp9_uIq9dF",
        "outputId": "63d1bac2-d45f-48ac-df7f-b74f44164eba"
      },
      "execution_count": null,
      "outputs": [
        {
          "output_type": "execute_result",
          "data": {
            "text/plain": [
              "'W'"
            ],
            "application/vnd.google.colaboratory.intrinsic+json": {
              "type": "string"
            }
          },
          "metadata": {},
          "execution_count": 23
        }
      ]
    },
    {
      "cell_type": "code",
      "source": [
        "next(a)"
      ],
      "metadata": {
        "colab": {
          "base_uri": "https://localhost:8080/",
          "height": 36
        },
        "id": "4Rvbu4Sxq_iG",
        "outputId": "d42152b4-a896-4aac-c341-e2873b607c72"
      },
      "execution_count": null,
      "outputs": [
        {
          "output_type": "execute_result",
          "data": {
            "text/plain": [
              "' '"
            ],
            "application/vnd.google.colaboratory.intrinsic+json": {
              "type": "string"
            }
          },
          "metadata": {},
          "execution_count": 24
        }
      ]
    },
    {
      "cell_type": "code",
      "source": [
        "next(a)"
      ],
      "metadata": {
        "colab": {
          "base_uri": "https://localhost:8080/",
          "height": 36
        },
        "id": "1u5AvlwYrAyO",
        "outputId": "9d205235-095a-4d35-9bad-ba1409119868"
      },
      "execution_count": null,
      "outputs": [
        {
          "output_type": "execute_result",
          "data": {
            "text/plain": [
              "'S'"
            ],
            "application/vnd.google.colaboratory.intrinsic+json": {
              "type": "string"
            }
          },
          "metadata": {},
          "execution_count": 25
        }
      ]
    },
    {
      "cell_type": "code",
      "source": [
        "next(a)"
      ],
      "metadata": {
        "colab": {
          "base_uri": "https://localhost:8080/",
          "height": 36
        },
        "id": "clsHkfGVrB-K",
        "outputId": "8817df20-e58b-461c-914a-48930f7322bf"
      },
      "execution_count": null,
      "outputs": [
        {
          "output_type": "execute_result",
          "data": {
            "text/plain": [
              "'k'"
            ],
            "application/vnd.google.colaboratory.intrinsic+json": {
              "type": "string"
            }
          },
          "metadata": {},
          "execution_count": 26
        }
      ]
    },
    {
      "cell_type": "code",
      "source": [
        "next(a)"
      ],
      "metadata": {
        "colab": {
          "base_uri": "https://localhost:8080/",
          "height": 36
        },
        "id": "dDyGApDIrDWy",
        "outputId": "7d71b935-1dc6-490d-d2bf-9009351b5711"
      },
      "execution_count": null,
      "outputs": [
        {
          "output_type": "execute_result",
          "data": {
            "text/plain": [
              "'i'"
            ],
            "application/vnd.google.colaboratory.intrinsic+json": {
              "type": "string"
            }
          },
          "metadata": {},
          "execution_count": 27
        }
      ]
    },
    {
      "cell_type": "code",
      "source": [
        "next(a)"
      ],
      "metadata": {
        "colab": {
          "base_uri": "https://localhost:8080/",
          "height": 36
        },
        "id": "Nu1Jt7d-rEcC",
        "outputId": "1ae9d7f7-3346-4c9a-eecd-a02542c80acf"
      },
      "execution_count": null,
      "outputs": [
        {
          "output_type": "execute_result",
          "data": {
            "text/plain": [
              "'l'"
            ],
            "application/vnd.google.colaboratory.intrinsic+json": {
              "type": "string"
            }
          },
          "metadata": {},
          "execution_count": 28
        }
      ]
    },
    {
      "cell_type": "code",
      "source": [
        "next(a)"
      ],
      "metadata": {
        "colab": {
          "base_uri": "https://localhost:8080/",
          "height": 36
        },
        "id": "LTLnR_A4rFut",
        "outputId": "72d1ee70-3129-4efc-fbb9-b908dcc43d1d"
      },
      "execution_count": null,
      "outputs": [
        {
          "output_type": "execute_result",
          "data": {
            "text/plain": [
              "'l'"
            ],
            "application/vnd.google.colaboratory.intrinsic+json": {
              "type": "string"
            }
          },
          "metadata": {},
          "execution_count": 30
        }
      ]
    },
    {
      "cell_type": "code",
      "source": [
        "next(a)   #ends here"
      ],
      "metadata": {
        "colab": {
          "base_uri": "https://localhost:8080/",
          "height": 36
        },
        "id": "iHITeUa0rINF",
        "outputId": "aa6dabc0-7e87-4d84-9b60-088399cc6275"
      },
      "execution_count": null,
      "outputs": [
        {
          "output_type": "execute_result",
          "data": {
            "text/plain": [
              "'s'"
            ],
            "application/vnd.google.colaboratory.intrinsic+json": {
              "type": "string"
            }
          },
          "metadata": {},
          "execution_count": 31
        }
      ]
    },
    {
      "cell_type": "code",
      "source": [
        "next(a)    #error"
      ],
      "metadata": {
        "colab": {
          "base_uri": "https://localhost:8080/",
          "height": 144
        },
        "id": "4AQSj3K2rLVw",
        "outputId": "1f4f747a-50b0-4a84-f8ac-7d7a1649019a"
      },
      "execution_count": null,
      "outputs": [
        {
          "output_type": "error",
          "ename": "StopIteration",
          "evalue": "",
          "traceback": [
            "\u001b[0;31m---------------------------------------------------------------------------\u001b[0m",
            "\u001b[0;31mStopIteration\u001b[0m                             Traceback (most recent call last)",
            "\u001b[0;32m<ipython-input-32-15841f3f11d4>\u001b[0m in \u001b[0;36m<cell line: 1>\u001b[0;34m()\u001b[0m\n\u001b[0;32m----> 1\u001b[0;31m \u001b[0mnext\u001b[0m\u001b[0;34m(\u001b[0m\u001b[0ma\u001b[0m\u001b[0;34m)\u001b[0m\u001b[0;34m\u001b[0m\u001b[0;34m\u001b[0m\u001b[0m\n\u001b[0m",
            "\u001b[0;31mStopIteration\u001b[0m: "
          ]
        }
      ]
    },
    {
      "cell_type": "code",
      "source": [
        "for i in \"PW Skills\":    #First conveting the iterable string to iterator object(using iter) and then access using next\n",
        "  print(i)"
      ],
      "metadata": {
        "colab": {
          "base_uri": "https://localhost:8080/"
        },
        "id": "uLqq1ZYerOX-",
        "outputId": "88d8318a-267a-4c1f-ae42-00cbdf29bf5b"
      },
      "execution_count": null,
      "outputs": [
        {
          "output_type": "stream",
          "name": "stdout",
          "text": [
            "P\n",
            "W\n",
            " \n",
            "S\n",
            "k\n",
            "i\n",
            "l\n",
            "l\n",
            "s\n"
          ]
        }
      ]
    },
    {
      "cell_type": "code",
      "source": [
        "#In List\n",
        "a = iter([1,2,3,4,5,6])\n",
        "a"
      ],
      "metadata": {
        "colab": {
          "base_uri": "https://localhost:8080/"
        },
        "id": "G4zjxRZLrZoK",
        "outputId": "7cd4244c-05df-4da4-d14f-d198aab1094d"
      },
      "execution_count": null,
      "outputs": [
        {
          "output_type": "execute_result",
          "data": {
            "text/plain": [
              "<list_iterator at 0x7b49a88ba980>"
            ]
          },
          "metadata": {},
          "execution_count": 36
        }
      ]
    },
    {
      "cell_type": "code",
      "source": [
        "next(a)"
      ],
      "metadata": {
        "colab": {
          "base_uri": "https://localhost:8080/"
        },
        "id": "BZHA6WlpsBtS",
        "outputId": "64afacd9-9a19-4c69-a069-aeca266177f2"
      },
      "execution_count": null,
      "outputs": [
        {
          "output_type": "execute_result",
          "data": {
            "text/plain": [
              "1"
            ]
          },
          "metadata": {},
          "execution_count": 40
        }
      ]
    },
    {
      "cell_type": "code",
      "source": [
        "next(a)"
      ],
      "metadata": {
        "colab": {
          "base_uri": "https://localhost:8080/"
        },
        "id": "pRw2XcnpsF9l",
        "outputId": "52145db7-3150-46b3-d624-d096a6caa568"
      },
      "execution_count": null,
      "outputs": [
        {
          "output_type": "execute_result",
          "data": {
            "text/plain": [
              "2"
            ]
          },
          "metadata": {},
          "execution_count": 42
        }
      ]
    },
    {
      "cell_type": "code",
      "source": [
        "next(a)"
      ],
      "metadata": {
        "colab": {
          "base_uri": "https://localhost:8080/"
        },
        "id": "n9_vdhiwsG-R",
        "outputId": "dcb6e006-20fe-447d-feeb-ab9c86e50b07"
      },
      "execution_count": null,
      "outputs": [
        {
          "output_type": "execute_result",
          "data": {
            "text/plain": [
              "3"
            ]
          },
          "metadata": {},
          "execution_count": 43
        }
      ]
    },
    {
      "cell_type": "code",
      "source": [
        "next(a)"
      ],
      "metadata": {
        "colab": {
          "base_uri": "https://localhost:8080/"
        },
        "id": "FkYA8EIcsIIx",
        "outputId": "dd856a5a-6a87-4c30-bba0-18a3a957322f"
      },
      "execution_count": null,
      "outputs": [
        {
          "output_type": "execute_result",
          "data": {
            "text/plain": [
              "4"
            ]
          },
          "metadata": {},
          "execution_count": 44
        }
      ]
    },
    {
      "cell_type": "code",
      "source": [
        "next(a)"
      ],
      "metadata": {
        "colab": {
          "base_uri": "https://localhost:8080/"
        },
        "id": "fRALJvH6sQR6",
        "outputId": "c55fafe8-f3db-4ac5-991e-3973f046631c"
      },
      "execution_count": null,
      "outputs": [
        {
          "output_type": "execute_result",
          "data": {
            "text/plain": [
              "5"
            ]
          },
          "metadata": {},
          "execution_count": 45
        }
      ]
    },
    {
      "cell_type": "code",
      "source": [
        "next(a)"
      ],
      "metadata": {
        "colab": {
          "base_uri": "https://localhost:8080/"
        },
        "id": "yOAX7ulusRE6",
        "outputId": "24691a34-9a64-4f6c-bf23-352eb2893e61"
      },
      "execution_count": null,
      "outputs": [
        {
          "output_type": "execute_result",
          "data": {
            "text/plain": [
              "6"
            ]
          },
          "metadata": {},
          "execution_count": 46
        }
      ]
    },
    {
      "cell_type": "code",
      "source": [
        "next(a)"
      ],
      "metadata": {
        "colab": {
          "base_uri": "https://localhost:8080/",
          "height": 144
        },
        "id": "qYHwh96rsR-h",
        "outputId": "fed8166a-a788-4ce7-d0f7-0a87f380463f"
      },
      "execution_count": null,
      "outputs": [
        {
          "output_type": "error",
          "ename": "StopIteration",
          "evalue": "",
          "traceback": [
            "\u001b[0;31m---------------------------------------------------------------------------\u001b[0m",
            "\u001b[0;31mStopIteration\u001b[0m                             Traceback (most recent call last)",
            "\u001b[0;32m<ipython-input-47-15841f3f11d4>\u001b[0m in \u001b[0;36m<cell line: 1>\u001b[0;34m()\u001b[0m\n\u001b[0;32m----> 1\u001b[0;31m \u001b[0mnext\u001b[0m\u001b[0;34m(\u001b[0m\u001b[0ma\u001b[0m\u001b[0;34m)\u001b[0m\u001b[0;34m\u001b[0m\u001b[0;34m\u001b[0m\u001b[0m\n\u001b[0m",
            "\u001b[0;31mStopIteration\u001b[0m: "
          ]
        }
      ]
    },
    {
      "cell_type": "code",
      "source": [
        "#itertor in tuples"
      ],
      "metadata": {
        "id": "215DL31bsS6u"
      },
      "execution_count": null,
      "outputs": []
    },
    {
      "cell_type": "code",
      "source": [
        "t = iter((1,2,3,4,\"TINAA\"))\n",
        "t"
      ],
      "metadata": {
        "colab": {
          "base_uri": "https://localhost:8080/"
        },
        "id": "CkXltgNyseYW",
        "outputId": "6ba5ce87-760f-44f9-a78d-6414051840a8"
      },
      "execution_count": null,
      "outputs": [
        {
          "output_type": "execute_result",
          "data": {
            "text/plain": [
              "<tuple_iterator at 0x7b496b003fd0>"
            ]
          },
          "metadata": {},
          "execution_count": 51
        }
      ]
    },
    {
      "cell_type": "code",
      "source": [
        "next(t)"
      ],
      "metadata": {
        "colab": {
          "base_uri": "https://localhost:8080/"
        },
        "id": "Poj_6Rq8smai",
        "outputId": "be57bc83-fd2a-486c-eb10-db2197998b46"
      },
      "execution_count": null,
      "outputs": [
        {
          "output_type": "execute_result",
          "data": {
            "text/plain": [
              "1"
            ]
          },
          "metadata": {},
          "execution_count": 52
        }
      ]
    },
    {
      "cell_type": "code",
      "source": [
        "next(t)"
      ],
      "metadata": {
        "colab": {
          "base_uri": "https://localhost:8080/"
        },
        "id": "o5ovJHSms1ZZ",
        "outputId": "95973255-7a0d-4a73-953f-17cb696f1016"
      },
      "execution_count": null,
      "outputs": [
        {
          "output_type": "execute_result",
          "data": {
            "text/plain": [
              "2"
            ]
          },
          "metadata": {},
          "execution_count": 53
        }
      ]
    },
    {
      "cell_type": "code",
      "source": [
        "next(t)"
      ],
      "metadata": {
        "colab": {
          "base_uri": "https://localhost:8080/"
        },
        "id": "9c5kG6jSs2cq",
        "outputId": "2c92e3e1-d442-4e9c-8793-47961b28a166"
      },
      "execution_count": null,
      "outputs": [
        {
          "output_type": "execute_result",
          "data": {
            "text/plain": [
              "3"
            ]
          },
          "metadata": {},
          "execution_count": 54
        }
      ]
    },
    {
      "cell_type": "code",
      "source": [
        "next(t)"
      ],
      "metadata": {
        "colab": {
          "base_uri": "https://localhost:8080/"
        },
        "id": "4hZBT11ns3ZA",
        "outputId": "d84a596a-3c61-46d0-8c87-962bf630ddb4"
      },
      "execution_count": null,
      "outputs": [
        {
          "output_type": "execute_result",
          "data": {
            "text/plain": [
              "4"
            ]
          },
          "metadata": {},
          "execution_count": 55
        }
      ]
    },
    {
      "cell_type": "code",
      "source": [
        "next(t)"
      ],
      "metadata": {
        "colab": {
          "base_uri": "https://localhost:8080/",
          "height": 36
        },
        "id": "jZgVe1XPs4SV",
        "outputId": "89f45d1d-4669-4a6e-d832-550354a72eb4"
      },
      "execution_count": null,
      "outputs": [
        {
          "output_type": "execute_result",
          "data": {
            "text/plain": [
              "'TINAA'"
            ],
            "application/vnd.google.colaboratory.intrinsic+json": {
              "type": "string"
            }
          },
          "metadata": {},
          "execution_count": 56
        }
      ]
    },
    {
      "cell_type": "code",
      "source": [
        "#Dictionary\n",
        "d = iter({\"Name\":\"Vanshika\",\"Age\":20})  #only Key will be iterated\n",
        "d"
      ],
      "metadata": {
        "colab": {
          "base_uri": "https://localhost:8080/"
        },
        "id": "NkTfselDs8k6",
        "outputId": "8a4141c1-304c-4b12-ace0-a2e8e285ce6c"
      },
      "execution_count": null,
      "outputs": [
        {
          "output_type": "execute_result",
          "data": {
            "text/plain": [
              "<dict_keyiterator at 0x7b496ade0c20>"
            ]
          },
          "metadata": {},
          "execution_count": 57
        }
      ]
    },
    {
      "cell_type": "code",
      "source": [
        "next(d)"
      ],
      "metadata": {
        "colab": {
          "base_uri": "https://localhost:8080/",
          "height": 36
        },
        "id": "2vGArxwCtJ4u",
        "outputId": "366fad37-3e1e-4084-94fb-903b53846858"
      },
      "execution_count": null,
      "outputs": [
        {
          "output_type": "execute_result",
          "data": {
            "text/plain": [
              "'Name'"
            ],
            "application/vnd.google.colaboratory.intrinsic+json": {
              "type": "string"
            }
          },
          "metadata": {},
          "execution_count": 58
        }
      ]
    },
    {
      "cell_type": "code",
      "source": [
        "next(d)"
      ],
      "metadata": {
        "colab": {
          "base_uri": "https://localhost:8080/",
          "height": 36
        },
        "id": "koqc3BD5tLju",
        "outputId": "6dff57e7-8b0c-442d-b436-97e4da3ff408"
      },
      "execution_count": null,
      "outputs": [
        {
          "output_type": "execute_result",
          "data": {
            "text/plain": [
              "'Age'"
            ],
            "application/vnd.google.colaboratory.intrinsic+json": {
              "type": "string"
            }
          },
          "metadata": {},
          "execution_count": 59
        }
      ]
    },
    {
      "cell_type": "code",
      "source": [
        "#set in itertor"
      ],
      "metadata": {
        "id": "tytdKK7FtNI0"
      },
      "execution_count": null,
      "outputs": []
    },
    {
      "cell_type": "code",
      "source": [
        "t = iter({1,2,3,4,5,\"Mina\"})\n",
        "t"
      ],
      "metadata": {
        "colab": {
          "base_uri": "https://localhost:8080/"
        },
        "id": "-1fC9wlktToj",
        "outputId": "8dd4fba7-947a-4246-e998-57b40c0c2a70"
      },
      "execution_count": null,
      "outputs": [
        {
          "output_type": "execute_result",
          "data": {
            "text/plain": [
              "<set_iterator at 0x7b496cb3d080>"
            ]
          },
          "metadata": {},
          "execution_count": 62
        }
      ]
    },
    {
      "cell_type": "code",
      "source": [
        "next(t)"
      ],
      "metadata": {
        "colab": {
          "base_uri": "https://localhost:8080/"
        },
        "id": "J4QmkWp4tZkA",
        "outputId": "fa26b803-5c3d-479f-917c-d1d3837c3e75"
      },
      "execution_count": null,
      "outputs": [
        {
          "output_type": "execute_result",
          "data": {
            "text/plain": [
              "1"
            ]
          },
          "metadata": {},
          "execution_count": 63
        }
      ]
    },
    {
      "cell_type": "code",
      "source": [
        "next(t)"
      ],
      "metadata": {
        "colab": {
          "base_uri": "https://localhost:8080/"
        },
        "id": "d_fzLLuxtb5L",
        "outputId": "07ce37a3-d003-410e-fb11-f2913c167eca"
      },
      "execution_count": null,
      "outputs": [
        {
          "output_type": "execute_result",
          "data": {
            "text/plain": [
              "2"
            ]
          },
          "metadata": {},
          "execution_count": 64
        }
      ]
    },
    {
      "cell_type": "code",
      "source": [
        "next(t)"
      ],
      "metadata": {
        "colab": {
          "base_uri": "https://localhost:8080/"
        },
        "id": "IupjQxsftc1U",
        "outputId": "2531c9cb-097c-4c67-94a8-73cd1eda5568"
      },
      "execution_count": null,
      "outputs": [
        {
          "output_type": "execute_result",
          "data": {
            "text/plain": [
              "3"
            ]
          },
          "metadata": {},
          "execution_count": 65
        }
      ]
    },
    {
      "cell_type": "code",
      "source": [
        "next(t)"
      ],
      "metadata": {
        "colab": {
          "base_uri": "https://localhost:8080/"
        },
        "id": "dxLu_KLxtdxb",
        "outputId": "0288ab10-f16f-43e4-fc51-f233f0d58e90"
      },
      "execution_count": null,
      "outputs": [
        {
          "output_type": "execute_result",
          "data": {
            "text/plain": [
              "4"
            ]
          },
          "metadata": {},
          "execution_count": 66
        }
      ]
    },
    {
      "cell_type": "code",
      "source": [
        "next(t)"
      ],
      "metadata": {
        "colab": {
          "base_uri": "https://localhost:8080/"
        },
        "id": "z0Tl3ajKtehK",
        "outputId": "66a2cace-fa2d-4050-fe36-e1683404b8f9"
      },
      "execution_count": null,
      "outputs": [
        {
          "output_type": "execute_result",
          "data": {
            "text/plain": [
              "5"
            ]
          },
          "metadata": {},
          "execution_count": 67
        }
      ]
    },
    {
      "cell_type": "code",
      "source": [
        "next(t)"
      ],
      "metadata": {
        "colab": {
          "base_uri": "https://localhost:8080/",
          "height": 36
        },
        "id": "EqCtRHo8tgKP",
        "outputId": "4584832b-091b-4e5b-fd1b-c9220189817a"
      },
      "execution_count": null,
      "outputs": [
        {
          "output_type": "execute_result",
          "data": {
            "text/plain": [
              "'Mina'"
            ],
            "application/vnd.google.colaboratory.intrinsic+json": {
              "type": "string"
            }
          },
          "metadata": {},
          "execution_count": 68
        }
      ]
    },
    {
      "cell_type": "markdown",
      "source": [
        "# **GENERATORS**"
      ],
      "metadata": {
        "id": "NkgrGvWAuBs2"
      }
    },
    {
      "cell_type": "code",
      "source": [
        "#Generators Function"
      ],
      "metadata": {
        "id": "riweynOUtnPm"
      },
      "execution_count": null,
      "outputs": []
    },
    {
      "cell_type": "code",
      "source": [
        "#Regulaar function >> takes a list and give squaare of each of the list\n",
        "def square_number(*n):\n",
        "  l = []\n",
        "  for i in n:\n",
        "    if type(i) == list:\n",
        "      for j in i:\n",
        "        if type(j) == int:\n",
        "          l.aappend(j**2)\n",
        "        else:\n",
        "          if type(i) == int:\n",
        "            l.append(i**2)\n",
        "  return l"
      ],
      "metadata": {
        "id": "bR1FkFJVuajw"
      },
      "execution_count": null,
      "outputs": []
    },
    {
      "cell_type": "code",
      "source": [
        "def square_number(n):\n",
        "  l = []\n",
        "  for i in n:\n",
        "    l.append(i**2)\n",
        "  return l"
      ],
      "metadata": {
        "id": "3hT-sTMRuqQs"
      },
      "execution_count": null,
      "outputs": []
    },
    {
      "cell_type": "code",
      "source": [
        "square_number([10,20,30])"
      ],
      "metadata": {
        "colab": {
          "base_uri": "https://localhost:8080/"
        },
        "id": "Qo2ny4rT5svX",
        "outputId": "9399d5b0-d2ec-4825-b793-957d6f55747c"
      },
      "execution_count": null,
      "outputs": [
        {
          "output_type": "execute_result",
          "data": {
            "text/plain": [
              "[100, 400, 900]"
            ]
          },
          "metadata": {},
          "execution_count": 3
        }
      ]
    },
    {
      "cell_type": "code",
      "source": [
        "#regular function calculates the square of the values and retutn in one go\n",
        "#since its returing in one go>>> memory usage will be more\n",
        "#it will take a lot of execution time if there is lot of computation as all the computation will done first and then the caluation will be returned in one go\n",
        "def square_range(n):\n",
        "  result=[]\n",
        "  for i in range(n):\n",
        "    result.append(i**2)\n",
        "  return result\n",
        "square_range(1000)"
      ],
      "metadata": {
        "id": "gkE7IRWg5wTb",
        "colab": {
          "base_uri": "https://localhost:8080/"
        },
        "outputId": "184e564a-1132-49b2-9f2d-7e7e9a20bb64"
      },
      "execution_count": null,
      "outputs": [
        {
          "output_type": "execute_result",
          "data": {
            "text/plain": [
              "[0,\n",
              " 1,\n",
              " 4,\n",
              " 9,\n",
              " 16,\n",
              " 25,\n",
              " 36,\n",
              " 49,\n",
              " 64,\n",
              " 81,\n",
              " 100,\n",
              " 121,\n",
              " 144,\n",
              " 169,\n",
              " 196,\n",
              " 225,\n",
              " 256,\n",
              " 289,\n",
              " 324,\n",
              " 361,\n",
              " 400,\n",
              " 441,\n",
              " 484,\n",
              " 529,\n",
              " 576,\n",
              " 625,\n",
              " 676,\n",
              " 729,\n",
              " 784,\n",
              " 841,\n",
              " 900,\n",
              " 961,\n",
              " 1024,\n",
              " 1089,\n",
              " 1156,\n",
              " 1225,\n",
              " 1296,\n",
              " 1369,\n",
              " 1444,\n",
              " 1521,\n",
              " 1600,\n",
              " 1681,\n",
              " 1764,\n",
              " 1849,\n",
              " 1936,\n",
              " 2025,\n",
              " 2116,\n",
              " 2209,\n",
              " 2304,\n",
              " 2401,\n",
              " 2500,\n",
              " 2601,\n",
              " 2704,\n",
              " 2809,\n",
              " 2916,\n",
              " 3025,\n",
              " 3136,\n",
              " 3249,\n",
              " 3364,\n",
              " 3481,\n",
              " 3600,\n",
              " 3721,\n",
              " 3844,\n",
              " 3969,\n",
              " 4096,\n",
              " 4225,\n",
              " 4356,\n",
              " 4489,\n",
              " 4624,\n",
              " 4761,\n",
              " 4900,\n",
              " 5041,\n",
              " 5184,\n",
              " 5329,\n",
              " 5476,\n",
              " 5625,\n",
              " 5776,\n",
              " 5929,\n",
              " 6084,\n",
              " 6241,\n",
              " 6400,\n",
              " 6561,\n",
              " 6724,\n",
              " 6889,\n",
              " 7056,\n",
              " 7225,\n",
              " 7396,\n",
              " 7569,\n",
              " 7744,\n",
              " 7921,\n",
              " 8100,\n",
              " 8281,\n",
              " 8464,\n",
              " 8649,\n",
              " 8836,\n",
              " 9025,\n",
              " 9216,\n",
              " 9409,\n",
              " 9604,\n",
              " 9801,\n",
              " 10000,\n",
              " 10201,\n",
              " 10404,\n",
              " 10609,\n",
              " 10816,\n",
              " 11025,\n",
              " 11236,\n",
              " 11449,\n",
              " 11664,\n",
              " 11881,\n",
              " 12100,\n",
              " 12321,\n",
              " 12544,\n",
              " 12769,\n",
              " 12996,\n",
              " 13225,\n",
              " 13456,\n",
              " 13689,\n",
              " 13924,\n",
              " 14161,\n",
              " 14400,\n",
              " 14641,\n",
              " 14884,\n",
              " 15129,\n",
              " 15376,\n",
              " 15625,\n",
              " 15876,\n",
              " 16129,\n",
              " 16384,\n",
              " 16641,\n",
              " 16900,\n",
              " 17161,\n",
              " 17424,\n",
              " 17689,\n",
              " 17956,\n",
              " 18225,\n",
              " 18496,\n",
              " 18769,\n",
              " 19044,\n",
              " 19321,\n",
              " 19600,\n",
              " 19881,\n",
              " 20164,\n",
              " 20449,\n",
              " 20736,\n",
              " 21025,\n",
              " 21316,\n",
              " 21609,\n",
              " 21904,\n",
              " 22201,\n",
              " 22500,\n",
              " 22801,\n",
              " 23104,\n",
              " 23409,\n",
              " 23716,\n",
              " 24025,\n",
              " 24336,\n",
              " 24649,\n",
              " 24964,\n",
              " 25281,\n",
              " 25600,\n",
              " 25921,\n",
              " 26244,\n",
              " 26569,\n",
              " 26896,\n",
              " 27225,\n",
              " 27556,\n",
              " 27889,\n",
              " 28224,\n",
              " 28561,\n",
              " 28900,\n",
              " 29241,\n",
              " 29584,\n",
              " 29929,\n",
              " 30276,\n",
              " 30625,\n",
              " 30976,\n",
              " 31329,\n",
              " 31684,\n",
              " 32041,\n",
              " 32400,\n",
              " 32761,\n",
              " 33124,\n",
              " 33489,\n",
              " 33856,\n",
              " 34225,\n",
              " 34596,\n",
              " 34969,\n",
              " 35344,\n",
              " 35721,\n",
              " 36100,\n",
              " 36481,\n",
              " 36864,\n",
              " 37249,\n",
              " 37636,\n",
              " 38025,\n",
              " 38416,\n",
              " 38809,\n",
              " 39204,\n",
              " 39601,\n",
              " 40000,\n",
              " 40401,\n",
              " 40804,\n",
              " 41209,\n",
              " 41616,\n",
              " 42025,\n",
              " 42436,\n",
              " 42849,\n",
              " 43264,\n",
              " 43681,\n",
              " 44100,\n",
              " 44521,\n",
              " 44944,\n",
              " 45369,\n",
              " 45796,\n",
              " 46225,\n",
              " 46656,\n",
              " 47089,\n",
              " 47524,\n",
              " 47961,\n",
              " 48400,\n",
              " 48841,\n",
              " 49284,\n",
              " 49729,\n",
              " 50176,\n",
              " 50625,\n",
              " 51076,\n",
              " 51529,\n",
              " 51984,\n",
              " 52441,\n",
              " 52900,\n",
              " 53361,\n",
              " 53824,\n",
              " 54289,\n",
              " 54756,\n",
              " 55225,\n",
              " 55696,\n",
              " 56169,\n",
              " 56644,\n",
              " 57121,\n",
              " 57600,\n",
              " 58081,\n",
              " 58564,\n",
              " 59049,\n",
              " 59536,\n",
              " 60025,\n",
              " 60516,\n",
              " 61009,\n",
              " 61504,\n",
              " 62001,\n",
              " 62500,\n",
              " 63001,\n",
              " 63504,\n",
              " 64009,\n",
              " 64516,\n",
              " 65025,\n",
              " 65536,\n",
              " 66049,\n",
              " 66564,\n",
              " 67081,\n",
              " 67600,\n",
              " 68121,\n",
              " 68644,\n",
              " 69169,\n",
              " 69696,\n",
              " 70225,\n",
              " 70756,\n",
              " 71289,\n",
              " 71824,\n",
              " 72361,\n",
              " 72900,\n",
              " 73441,\n",
              " 73984,\n",
              " 74529,\n",
              " 75076,\n",
              " 75625,\n",
              " 76176,\n",
              " 76729,\n",
              " 77284,\n",
              " 77841,\n",
              " 78400,\n",
              " 78961,\n",
              " 79524,\n",
              " 80089,\n",
              " 80656,\n",
              " 81225,\n",
              " 81796,\n",
              " 82369,\n",
              " 82944,\n",
              " 83521,\n",
              " 84100,\n",
              " 84681,\n",
              " 85264,\n",
              " 85849,\n",
              " 86436,\n",
              " 87025,\n",
              " 87616,\n",
              " 88209,\n",
              " 88804,\n",
              " 89401,\n",
              " 90000,\n",
              " 90601,\n",
              " 91204,\n",
              " 91809,\n",
              " 92416,\n",
              " 93025,\n",
              " 93636,\n",
              " 94249,\n",
              " 94864,\n",
              " 95481,\n",
              " 96100,\n",
              " 96721,\n",
              " 97344,\n",
              " 97969,\n",
              " 98596,\n",
              " 99225,\n",
              " 99856,\n",
              " 100489,\n",
              " 101124,\n",
              " 101761,\n",
              " 102400,\n",
              " 103041,\n",
              " 103684,\n",
              " 104329,\n",
              " 104976,\n",
              " 105625,\n",
              " 106276,\n",
              " 106929,\n",
              " 107584,\n",
              " 108241,\n",
              " 108900,\n",
              " 109561,\n",
              " 110224,\n",
              " 110889,\n",
              " 111556,\n",
              " 112225,\n",
              " 112896,\n",
              " 113569,\n",
              " 114244,\n",
              " 114921,\n",
              " 115600,\n",
              " 116281,\n",
              " 116964,\n",
              " 117649,\n",
              " 118336,\n",
              " 119025,\n",
              " 119716,\n",
              " 120409,\n",
              " 121104,\n",
              " 121801,\n",
              " 122500,\n",
              " 123201,\n",
              " 123904,\n",
              " 124609,\n",
              " 125316,\n",
              " 126025,\n",
              " 126736,\n",
              " 127449,\n",
              " 128164,\n",
              " 128881,\n",
              " 129600,\n",
              " 130321,\n",
              " 131044,\n",
              " 131769,\n",
              " 132496,\n",
              " 133225,\n",
              " 133956,\n",
              " 134689,\n",
              " 135424,\n",
              " 136161,\n",
              " 136900,\n",
              " 137641,\n",
              " 138384,\n",
              " 139129,\n",
              " 139876,\n",
              " 140625,\n",
              " 141376,\n",
              " 142129,\n",
              " 142884,\n",
              " 143641,\n",
              " 144400,\n",
              " 145161,\n",
              " 145924,\n",
              " 146689,\n",
              " 147456,\n",
              " 148225,\n",
              " 148996,\n",
              " 149769,\n",
              " 150544,\n",
              " 151321,\n",
              " 152100,\n",
              " 152881,\n",
              " 153664,\n",
              " 154449,\n",
              " 155236,\n",
              " 156025,\n",
              " 156816,\n",
              " 157609,\n",
              " 158404,\n",
              " 159201,\n",
              " 160000,\n",
              " 160801,\n",
              " 161604,\n",
              " 162409,\n",
              " 163216,\n",
              " 164025,\n",
              " 164836,\n",
              " 165649,\n",
              " 166464,\n",
              " 167281,\n",
              " 168100,\n",
              " 168921,\n",
              " 169744,\n",
              " 170569,\n",
              " 171396,\n",
              " 172225,\n",
              " 173056,\n",
              " 173889,\n",
              " 174724,\n",
              " 175561,\n",
              " 176400,\n",
              " 177241,\n",
              " 178084,\n",
              " 178929,\n",
              " 179776,\n",
              " 180625,\n",
              " 181476,\n",
              " 182329,\n",
              " 183184,\n",
              " 184041,\n",
              " 184900,\n",
              " 185761,\n",
              " 186624,\n",
              " 187489,\n",
              " 188356,\n",
              " 189225,\n",
              " 190096,\n",
              " 190969,\n",
              " 191844,\n",
              " 192721,\n",
              " 193600,\n",
              " 194481,\n",
              " 195364,\n",
              " 196249,\n",
              " 197136,\n",
              " 198025,\n",
              " 198916,\n",
              " 199809,\n",
              " 200704,\n",
              " 201601,\n",
              " 202500,\n",
              " 203401,\n",
              " 204304,\n",
              " 205209,\n",
              " 206116,\n",
              " 207025,\n",
              " 207936,\n",
              " 208849,\n",
              " 209764,\n",
              " 210681,\n",
              " 211600,\n",
              " 212521,\n",
              " 213444,\n",
              " 214369,\n",
              " 215296,\n",
              " 216225,\n",
              " 217156,\n",
              " 218089,\n",
              " 219024,\n",
              " 219961,\n",
              " 220900,\n",
              " 221841,\n",
              " 222784,\n",
              " 223729,\n",
              " 224676,\n",
              " 225625,\n",
              " 226576,\n",
              " 227529,\n",
              " 228484,\n",
              " 229441,\n",
              " 230400,\n",
              " 231361,\n",
              " 232324,\n",
              " 233289,\n",
              " 234256,\n",
              " 235225,\n",
              " 236196,\n",
              " 237169,\n",
              " 238144,\n",
              " 239121,\n",
              " 240100,\n",
              " 241081,\n",
              " 242064,\n",
              " 243049,\n",
              " 244036,\n",
              " 245025,\n",
              " 246016,\n",
              " 247009,\n",
              " 248004,\n",
              " 249001,\n",
              " 250000,\n",
              " 251001,\n",
              " 252004,\n",
              " 253009,\n",
              " 254016,\n",
              " 255025,\n",
              " 256036,\n",
              " 257049,\n",
              " 258064,\n",
              " 259081,\n",
              " 260100,\n",
              " 261121,\n",
              " 262144,\n",
              " 263169,\n",
              " 264196,\n",
              " 265225,\n",
              " 266256,\n",
              " 267289,\n",
              " 268324,\n",
              " 269361,\n",
              " 270400,\n",
              " 271441,\n",
              " 272484,\n",
              " 273529,\n",
              " 274576,\n",
              " 275625,\n",
              " 276676,\n",
              " 277729,\n",
              " 278784,\n",
              " 279841,\n",
              " 280900,\n",
              " 281961,\n",
              " 283024,\n",
              " 284089,\n",
              " 285156,\n",
              " 286225,\n",
              " 287296,\n",
              " 288369,\n",
              " 289444,\n",
              " 290521,\n",
              " 291600,\n",
              " 292681,\n",
              " 293764,\n",
              " 294849,\n",
              " 295936,\n",
              " 297025,\n",
              " 298116,\n",
              " 299209,\n",
              " 300304,\n",
              " 301401,\n",
              " 302500,\n",
              " 303601,\n",
              " 304704,\n",
              " 305809,\n",
              " 306916,\n",
              " 308025,\n",
              " 309136,\n",
              " 310249,\n",
              " 311364,\n",
              " 312481,\n",
              " 313600,\n",
              " 314721,\n",
              " 315844,\n",
              " 316969,\n",
              " 318096,\n",
              " 319225,\n",
              " 320356,\n",
              " 321489,\n",
              " 322624,\n",
              " 323761,\n",
              " 324900,\n",
              " 326041,\n",
              " 327184,\n",
              " 328329,\n",
              " 329476,\n",
              " 330625,\n",
              " 331776,\n",
              " 332929,\n",
              " 334084,\n",
              " 335241,\n",
              " 336400,\n",
              " 337561,\n",
              " 338724,\n",
              " 339889,\n",
              " 341056,\n",
              " 342225,\n",
              " 343396,\n",
              " 344569,\n",
              " 345744,\n",
              " 346921,\n",
              " 348100,\n",
              " 349281,\n",
              " 350464,\n",
              " 351649,\n",
              " 352836,\n",
              " 354025,\n",
              " 355216,\n",
              " 356409,\n",
              " 357604,\n",
              " 358801,\n",
              " 360000,\n",
              " 361201,\n",
              " 362404,\n",
              " 363609,\n",
              " 364816,\n",
              " 366025,\n",
              " 367236,\n",
              " 368449,\n",
              " 369664,\n",
              " 370881,\n",
              " 372100,\n",
              " 373321,\n",
              " 374544,\n",
              " 375769,\n",
              " 376996,\n",
              " 378225,\n",
              " 379456,\n",
              " 380689,\n",
              " 381924,\n",
              " 383161,\n",
              " 384400,\n",
              " 385641,\n",
              " 386884,\n",
              " 388129,\n",
              " 389376,\n",
              " 390625,\n",
              " 391876,\n",
              " 393129,\n",
              " 394384,\n",
              " 395641,\n",
              " 396900,\n",
              " 398161,\n",
              " 399424,\n",
              " 400689,\n",
              " 401956,\n",
              " 403225,\n",
              " 404496,\n",
              " 405769,\n",
              " 407044,\n",
              " 408321,\n",
              " 409600,\n",
              " 410881,\n",
              " 412164,\n",
              " 413449,\n",
              " 414736,\n",
              " 416025,\n",
              " 417316,\n",
              " 418609,\n",
              " 419904,\n",
              " 421201,\n",
              " 422500,\n",
              " 423801,\n",
              " 425104,\n",
              " 426409,\n",
              " 427716,\n",
              " 429025,\n",
              " 430336,\n",
              " 431649,\n",
              " 432964,\n",
              " 434281,\n",
              " 435600,\n",
              " 436921,\n",
              " 438244,\n",
              " 439569,\n",
              " 440896,\n",
              " 442225,\n",
              " 443556,\n",
              " 444889,\n",
              " 446224,\n",
              " 447561,\n",
              " 448900,\n",
              " 450241,\n",
              " 451584,\n",
              " 452929,\n",
              " 454276,\n",
              " 455625,\n",
              " 456976,\n",
              " 458329,\n",
              " 459684,\n",
              " 461041,\n",
              " 462400,\n",
              " 463761,\n",
              " 465124,\n",
              " 466489,\n",
              " 467856,\n",
              " 469225,\n",
              " 470596,\n",
              " 471969,\n",
              " 473344,\n",
              " 474721,\n",
              " 476100,\n",
              " 477481,\n",
              " 478864,\n",
              " 480249,\n",
              " 481636,\n",
              " 483025,\n",
              " 484416,\n",
              " 485809,\n",
              " 487204,\n",
              " 488601,\n",
              " 490000,\n",
              " 491401,\n",
              " 492804,\n",
              " 494209,\n",
              " 495616,\n",
              " 497025,\n",
              " 498436,\n",
              " 499849,\n",
              " 501264,\n",
              " 502681,\n",
              " 504100,\n",
              " 505521,\n",
              " 506944,\n",
              " 508369,\n",
              " 509796,\n",
              " 511225,\n",
              " 512656,\n",
              " 514089,\n",
              " 515524,\n",
              " 516961,\n",
              " 518400,\n",
              " 519841,\n",
              " 521284,\n",
              " 522729,\n",
              " 524176,\n",
              " 525625,\n",
              " 527076,\n",
              " 528529,\n",
              " 529984,\n",
              " 531441,\n",
              " 532900,\n",
              " 534361,\n",
              " 535824,\n",
              " 537289,\n",
              " 538756,\n",
              " 540225,\n",
              " 541696,\n",
              " 543169,\n",
              " 544644,\n",
              " 546121,\n",
              " 547600,\n",
              " 549081,\n",
              " 550564,\n",
              " 552049,\n",
              " 553536,\n",
              " 555025,\n",
              " 556516,\n",
              " 558009,\n",
              " 559504,\n",
              " 561001,\n",
              " 562500,\n",
              " 564001,\n",
              " 565504,\n",
              " 567009,\n",
              " 568516,\n",
              " 570025,\n",
              " 571536,\n",
              " 573049,\n",
              " 574564,\n",
              " 576081,\n",
              " 577600,\n",
              " 579121,\n",
              " 580644,\n",
              " 582169,\n",
              " 583696,\n",
              " 585225,\n",
              " 586756,\n",
              " 588289,\n",
              " 589824,\n",
              " 591361,\n",
              " 592900,\n",
              " 594441,\n",
              " 595984,\n",
              " 597529,\n",
              " 599076,\n",
              " 600625,\n",
              " 602176,\n",
              " 603729,\n",
              " 605284,\n",
              " 606841,\n",
              " 608400,\n",
              " 609961,\n",
              " 611524,\n",
              " 613089,\n",
              " 614656,\n",
              " 616225,\n",
              " 617796,\n",
              " 619369,\n",
              " 620944,\n",
              " 622521,\n",
              " 624100,\n",
              " 625681,\n",
              " 627264,\n",
              " 628849,\n",
              " 630436,\n",
              " 632025,\n",
              " 633616,\n",
              " 635209,\n",
              " 636804,\n",
              " 638401,\n",
              " 640000,\n",
              " 641601,\n",
              " 643204,\n",
              " 644809,\n",
              " 646416,\n",
              " 648025,\n",
              " 649636,\n",
              " 651249,\n",
              " 652864,\n",
              " 654481,\n",
              " 656100,\n",
              " 657721,\n",
              " 659344,\n",
              " 660969,\n",
              " 662596,\n",
              " 664225,\n",
              " 665856,\n",
              " 667489,\n",
              " 669124,\n",
              " 670761,\n",
              " 672400,\n",
              " 674041,\n",
              " 675684,\n",
              " 677329,\n",
              " 678976,\n",
              " 680625,\n",
              " 682276,\n",
              " 683929,\n",
              " 685584,\n",
              " 687241,\n",
              " 688900,\n",
              " 690561,\n",
              " 692224,\n",
              " 693889,\n",
              " 695556,\n",
              " 697225,\n",
              " 698896,\n",
              " 700569,\n",
              " 702244,\n",
              " 703921,\n",
              " 705600,\n",
              " 707281,\n",
              " 708964,\n",
              " 710649,\n",
              " 712336,\n",
              " 714025,\n",
              " 715716,\n",
              " 717409,\n",
              " 719104,\n",
              " 720801,\n",
              " 722500,\n",
              " 724201,\n",
              " 725904,\n",
              " 727609,\n",
              " 729316,\n",
              " 731025,\n",
              " 732736,\n",
              " 734449,\n",
              " 736164,\n",
              " 737881,\n",
              " 739600,\n",
              " 741321,\n",
              " 743044,\n",
              " 744769,\n",
              " 746496,\n",
              " 748225,\n",
              " 749956,\n",
              " 751689,\n",
              " 753424,\n",
              " 755161,\n",
              " 756900,\n",
              " 758641,\n",
              " 760384,\n",
              " 762129,\n",
              " 763876,\n",
              " 765625,\n",
              " 767376,\n",
              " 769129,\n",
              " 770884,\n",
              " 772641,\n",
              " 774400,\n",
              " 776161,\n",
              " 777924,\n",
              " 779689,\n",
              " 781456,\n",
              " 783225,\n",
              " 784996,\n",
              " 786769,\n",
              " 788544,\n",
              " 790321,\n",
              " 792100,\n",
              " 793881,\n",
              " 795664,\n",
              " 797449,\n",
              " 799236,\n",
              " 801025,\n",
              " 802816,\n",
              " 804609,\n",
              " 806404,\n",
              " 808201,\n",
              " 810000,\n",
              " 811801,\n",
              " 813604,\n",
              " 815409,\n",
              " 817216,\n",
              " 819025,\n",
              " 820836,\n",
              " 822649,\n",
              " 824464,\n",
              " 826281,\n",
              " 828100,\n",
              " 829921,\n",
              " 831744,\n",
              " 833569,\n",
              " 835396,\n",
              " 837225,\n",
              " 839056,\n",
              " 840889,\n",
              " 842724,\n",
              " 844561,\n",
              " 846400,\n",
              " 848241,\n",
              " 850084,\n",
              " 851929,\n",
              " 853776,\n",
              " 855625,\n",
              " 857476,\n",
              " 859329,\n",
              " 861184,\n",
              " 863041,\n",
              " 864900,\n",
              " 866761,\n",
              " 868624,\n",
              " 870489,\n",
              " 872356,\n",
              " 874225,\n",
              " 876096,\n",
              " 877969,\n",
              " 879844,\n",
              " 881721,\n",
              " 883600,\n",
              " 885481,\n",
              " 887364,\n",
              " 889249,\n",
              " 891136,\n",
              " 893025,\n",
              " 894916,\n",
              " 896809,\n",
              " 898704,\n",
              " 900601,\n",
              " 902500,\n",
              " 904401,\n",
              " 906304,\n",
              " 908209,\n",
              " 910116,\n",
              " 912025,\n",
              " 913936,\n",
              " 915849,\n",
              " 917764,\n",
              " 919681,\n",
              " 921600,\n",
              " 923521,\n",
              " 925444,\n",
              " 927369,\n",
              " 929296,\n",
              " 931225,\n",
              " 933156,\n",
              " 935089,\n",
              " 937024,\n",
              " 938961,\n",
              " 940900,\n",
              " 942841,\n",
              " 944784,\n",
              " 946729,\n",
              " 948676,\n",
              " 950625,\n",
              " 952576,\n",
              " 954529,\n",
              " 956484,\n",
              " 958441,\n",
              " 960400,\n",
              " 962361,\n",
              " 964324,\n",
              " 966289,\n",
              " 968256,\n",
              " 970225,\n",
              " 972196,\n",
              " 974169,\n",
              " 976144,\n",
              " 978121,\n",
              " 980100,\n",
              " 982081,\n",
              " 984064,\n",
              " 986049,\n",
              " 988036,\n",
              " 990025,\n",
              " 992016,\n",
              " 994009,\n",
              " 996004,\n",
              " 998001]"
            ]
          },
          "metadata": {},
          "execution_count": 3
        }
      ]
    },
    {
      "cell_type": "code",
      "source": [
        "#can we have something to generate result one by one instead of one go\n",
        "#yield >> general function uses return statement but a generator function use yield satement\n"
      ],
      "metadata": {
        "id": "W5mPl77LyRQy"
      },
      "execution_count": null,
      "outputs": []
    },
    {
      "cell_type": "code",
      "source": [
        "def square_no_generator(n):\n",
        "  for i in range(n):\n",
        "    yield i ** 2\n"
      ],
      "metadata": {
        "id": "b5eVzsW_0REF"
      },
      "execution_count": null,
      "outputs": []
    },
    {
      "cell_type": "code",
      "source": [
        "square_no_generator(10)    #it is an iteratorb object"
      ],
      "metadata": {
        "colab": {
          "base_uri": "https://localhost:8080/"
        },
        "id": "Yd3BxbA41xwu",
        "outputId": "6532ce4e-bd62-4661-f94f-a2779247b7fb"
      },
      "execution_count": null,
      "outputs": [
        {
          "output_type": "execute_result",
          "data": {
            "text/plain": [
              "<generator object square_no_generator at 0x79db69f93c30>"
            ]
          },
          "metadata": {},
          "execution_count": 7
        }
      ]
    },
    {
      "cell_type": "code",
      "source": [
        "gen = square_no_generator(10)\n",
        "gen"
      ],
      "metadata": {
        "colab": {
          "base_uri": "https://localhost:8080/"
        },
        "id": "YWQtslks2NDA",
        "outputId": "a034f8fc-7bed-45be-de93-5baf0c056ad5"
      },
      "execution_count": null,
      "outputs": [
        {
          "output_type": "execute_result",
          "data": {
            "text/plain": [
              "<generator object square_no_generator at 0x79db699733e0>"
            ]
          },
          "metadata": {},
          "execution_count": 9
        }
      ]
    },
    {
      "cell_type": "code",
      "source": [
        "next(gen)"
      ],
      "metadata": {
        "colab": {
          "base_uri": "https://localhost:8080/"
        },
        "id": "rX65sDwv76ZW",
        "outputId": "19ccd489-5131-4b2d-c09c-fe840aa9c95a"
      },
      "execution_count": null,
      "outputs": [
        {
          "output_type": "execute_result",
          "data": {
            "text/plain": [
              "0"
            ]
          },
          "metadata": {},
          "execution_count": 10
        }
      ]
    },
    {
      "cell_type": "code",
      "source": [
        "next(gen)"
      ],
      "metadata": {
        "colab": {
          "base_uri": "https://localhost:8080/"
        },
        "id": "e32tr2ED8GY_",
        "outputId": "15f5cba1-6557-430f-e51a-71b306e0c8e8"
      },
      "execution_count": null,
      "outputs": [
        {
          "output_type": "execute_result",
          "data": {
            "text/plain": [
              "1"
            ]
          },
          "metadata": {},
          "execution_count": 11
        }
      ]
    },
    {
      "cell_type": "code",
      "source": [
        "next(gen)"
      ],
      "metadata": {
        "colab": {
          "base_uri": "https://localhost:8080/"
        },
        "id": "DZ5e85oc8H-n",
        "outputId": "2c7a631e-d4ac-4f21-f1e5-42c8666c7e9c"
      },
      "execution_count": null,
      "outputs": [
        {
          "output_type": "execute_result",
          "data": {
            "text/plain": [
              "4"
            ]
          },
          "metadata": {},
          "execution_count": 12
        }
      ]
    },
    {
      "cell_type": "code",
      "source": [
        "next(gen)"
      ],
      "metadata": {
        "colab": {
          "base_uri": "https://localhost:8080/"
        },
        "id": "qGFz9Ffk8Jff",
        "outputId": "4310ac51-8d15-49ff-f6d6-e716c6e03feb"
      },
      "execution_count": null,
      "outputs": [
        {
          "output_type": "execute_result",
          "data": {
            "text/plain": [
              "9"
            ]
          },
          "metadata": {},
          "execution_count": 13
        }
      ]
    },
    {
      "cell_type": "code",
      "source": [
        "next(gen)"
      ],
      "metadata": {
        "colab": {
          "base_uri": "https://localhost:8080/"
        },
        "id": "VpARc2ip8MSD",
        "outputId": "bd7bcbb1-45be-43ce-a26d-7c054829a515"
      },
      "execution_count": null,
      "outputs": [
        {
          "output_type": "execute_result",
          "data": {
            "text/plain": [
              "16"
            ]
          },
          "metadata": {},
          "execution_count": 14
        }
      ]
    },
    {
      "cell_type": "code",
      "source": [
        "next(gen)"
      ],
      "metadata": {
        "colab": {
          "base_uri": "https://localhost:8080/"
        },
        "id": "kPcuowwU8RAA",
        "outputId": "a33cbb8c-b859-4d11-9662-50dfd51c36d2"
      },
      "execution_count": null,
      "outputs": [
        {
          "output_type": "execute_result",
          "data": {
            "text/plain": [
              "25"
            ]
          },
          "metadata": {},
          "execution_count": 15
        }
      ]
    },
    {
      "cell_type": "code",
      "source": [
        "next(gen)"
      ],
      "metadata": {
        "colab": {
          "base_uri": "https://localhost:8080/"
        },
        "id": "PU7lkAlQ8Rnz",
        "outputId": "2c25814a-1100-4452-ea84-42727a5f131f"
      },
      "execution_count": null,
      "outputs": [
        {
          "output_type": "execute_result",
          "data": {
            "text/plain": [
              "36"
            ]
          },
          "metadata": {},
          "execution_count": 16
        }
      ]
    },
    {
      "cell_type": "code",
      "source": [
        "next(gen)"
      ],
      "metadata": {
        "colab": {
          "base_uri": "https://localhost:8080/"
        },
        "id": "UCxpkhBU8SH8",
        "outputId": "42ede128-818a-48ae-e6ba-1c7720326567"
      },
      "execution_count": null,
      "outputs": [
        {
          "output_type": "execute_result",
          "data": {
            "text/plain": [
              "49"
            ]
          },
          "metadata": {},
          "execution_count": 17
        }
      ]
    },
    {
      "cell_type": "code",
      "source": [
        "next(gen)"
      ],
      "metadata": {
        "colab": {
          "base_uri": "https://localhost:8080/"
        },
        "id": "Pqx9Ru4T8SkM",
        "outputId": "316a4ad4-df21-4a32-91be-d21a6af6edbe"
      },
      "execution_count": null,
      "outputs": [
        {
          "output_type": "execute_result",
          "data": {
            "text/plain": [
              "64"
            ]
          },
          "metadata": {},
          "execution_count": 18
        }
      ]
    },
    {
      "cell_type": "code",
      "source": [
        "next(gen)"
      ],
      "metadata": {
        "colab": {
          "base_uri": "https://localhost:8080/"
        },
        "id": "MdDg-ABG8TdT",
        "outputId": "3cec8988-d16d-4598-9af1-f12058413e72"
      },
      "execution_count": null,
      "outputs": [
        {
          "output_type": "execute_result",
          "data": {
            "text/plain": [
              "81"
            ]
          },
          "metadata": {},
          "execution_count": 19
        }
      ]
    },
    {
      "cell_type": "code",
      "source": [
        "#fibonacci series >> Sum of last two numbers 0,1,1,2,3,5,8,....\n",
        "\n",
        "\n",
        "def fib(n):\n",
        "  a=0\n",
        "  b=1\n",
        "  for i in range(n):   #if n=5,0,1,2,3,4\n",
        "    yield a\n",
        "    a,b = b,a+b     #here assinging a value to b and b value to a+b so for example a=1 and b=2 then 1+2=3 now 2 =a and 3= b"
      ],
      "metadata": {
        "id": "oSvo8iNC8T_c"
      },
      "execution_count": null,
      "outputs": []
    },
    {
      "cell_type": "code",
      "source": [
        "fib(10000000000000000)"
      ],
      "metadata": {
        "colab": {
          "base_uri": "https://localhost:8080/"
        },
        "id": "UULJM_J4-LGg",
        "outputId": "50a119c0-f85b-4442-f2a3-7c18209bbe42"
      },
      "execution_count": null,
      "outputs": [
        {
          "output_type": "execute_result",
          "data": {
            "text/plain": [
              "<generator object fib at 0x79db507bf060>"
            ]
          },
          "metadata": {},
          "execution_count": 40
        }
      ]
    },
    {
      "cell_type": "code",
      "source": [
        "f=fib(10000000000000000)\n",
        "f"
      ],
      "metadata": {
        "colab": {
          "base_uri": "https://localhost:8080/"
        },
        "id": "WUdleg-z_2rH",
        "outputId": "e7f9e281-b086-4ea3-edcc-bc2fdfb3ac63"
      },
      "execution_count": null,
      "outputs": [
        {
          "output_type": "execute_result",
          "data": {
            "text/plain": [
              "<generator object fib at 0x79db507bf290>"
            ]
          },
          "metadata": {},
          "execution_count": 42
        }
      ]
    },
    {
      "cell_type": "code",
      "source": [
        "next(f)"
      ],
      "metadata": {
        "colab": {
          "base_uri": "https://localhost:8080/"
        },
        "id": "QQeY0-D3_7br",
        "outputId": "06bcd3d5-9c26-4c6e-ea32-69556a62f8b6"
      },
      "execution_count": null,
      "outputs": [
        {
          "output_type": "execute_result",
          "data": {
            "text/plain": [
              "0"
            ]
          },
          "metadata": {},
          "execution_count": 43
        }
      ]
    },
    {
      "cell_type": "code",
      "source": [
        "next(f)"
      ],
      "metadata": {
        "colab": {
          "base_uri": "https://localhost:8080/"
        },
        "id": "X0oFwJ5r_9GH",
        "outputId": "eb875b5d-6fa9-41f8-cf18-61eac585902b"
      },
      "execution_count": null,
      "outputs": [
        {
          "output_type": "execute_result",
          "data": {
            "text/plain": [
              "1"
            ]
          },
          "metadata": {},
          "execution_count": 44
        }
      ]
    },
    {
      "cell_type": "code",
      "source": [
        "next(f)"
      ],
      "metadata": {
        "colab": {
          "base_uri": "https://localhost:8080/"
        },
        "id": "S97Ad1zu__Dv",
        "outputId": "07093b92-98b1-4492-e4e2-8e846d59e1a9"
      },
      "execution_count": null,
      "outputs": [
        {
          "output_type": "execute_result",
          "data": {
            "text/plain": [
              "1"
            ]
          },
          "metadata": {},
          "execution_count": 45
        }
      ]
    },
    {
      "cell_type": "code",
      "source": [
        "next(f)"
      ],
      "metadata": {
        "colab": {
          "base_uri": "https://localhost:8080/"
        },
        "id": "C4A-tIwf__av",
        "outputId": "6da160f9-83de-4ca9-b793-fdd20ad99896"
      },
      "execution_count": null,
      "outputs": [
        {
          "output_type": "execute_result",
          "data": {
            "text/plain": [
              "2"
            ]
          },
          "metadata": {},
          "execution_count": 46
        }
      ]
    },
    {
      "cell_type": "code",
      "source": [
        "next(f)"
      ],
      "metadata": {
        "colab": {
          "base_uri": "https://localhost:8080/"
        },
        "id": "kcD1sYl___yX",
        "outputId": "d1838d86-9e1c-404c-c43f-17ab91e63a53"
      },
      "execution_count": null,
      "outputs": [
        {
          "output_type": "execute_result",
          "data": {
            "text/plain": [
              "3"
            ]
          },
          "metadata": {},
          "execution_count": 47
        }
      ]
    },
    {
      "cell_type": "code",
      "source": [
        "next(f)"
      ],
      "metadata": {
        "colab": {
          "base_uri": "https://localhost:8080/"
        },
        "id": "2ma3NLA9AAG3",
        "outputId": "78aeec9b-6756-4fdc-fecc-52bcfd411237"
      },
      "execution_count": null,
      "outputs": [
        {
          "output_type": "execute_result",
          "data": {
            "text/plain": [
              "5"
            ]
          },
          "metadata": {},
          "execution_count": 48
        }
      ]
    },
    {
      "cell_type": "code",
      "source": [
        "next(f)"
      ],
      "metadata": {
        "colab": {
          "base_uri": "https://localhost:8080/"
        },
        "id": "NcjIzJB3AAci",
        "outputId": "b2a5494f-f760-4ebf-d1fa-0a4ffb6bdc42"
      },
      "execution_count": null,
      "outputs": [
        {
          "output_type": "execute_result",
          "data": {
            "text/plain": [
              "8"
            ]
          },
          "metadata": {},
          "execution_count": 49
        }
      ]
    },
    {
      "cell_type": "code",
      "source": [
        "next(f)"
      ],
      "metadata": {
        "colab": {
          "base_uri": "https://localhost:8080/"
        },
        "id": "6NgGLU3YABzT",
        "outputId": "530fcc93-6463-41be-dd97-68f1b697f90b"
      },
      "execution_count": null,
      "outputs": [
        {
          "output_type": "execute_result",
          "data": {
            "text/plain": [
              "13"
            ]
          },
          "metadata": {},
          "execution_count": 50
        }
      ]
    },
    {
      "cell_type": "code",
      "source": [],
      "metadata": {
        "id": "RH9IS7OXACDO"
      },
      "execution_count": null,
      "outputs": []
    },
    {
      "cell_type": "code",
      "source": [
        "next(f)"
      ],
      "metadata": {
        "colab": {
          "base_uri": "https://localhost:8080/"
        },
        "id": "wBFQ2WI_ACur",
        "outputId": "907157cc-757d-4a86-bb4f-29b1aec2e527"
      },
      "execution_count": null,
      "outputs": [
        {
          "output_type": "execute_result",
          "data": {
            "text/plain": [
              "21"
            ]
          },
          "metadata": {},
          "execution_count": 51
        }
      ]
    },
    {
      "cell_type": "code",
      "source": [
        "next(f)"
      ],
      "metadata": {
        "colab": {
          "base_uri": "https://localhost:8080/"
        },
        "id": "_xq3MPbAADLM",
        "outputId": "48190237-dae8-42f4-fbe1-1747cb73a1c0"
      },
      "execution_count": null,
      "outputs": [
        {
          "output_type": "execute_result",
          "data": {
            "text/plain": [
              "34"
            ]
          },
          "metadata": {},
          "execution_count": 52
        }
      ]
    },
    {
      "cell_type": "code",
      "source": [
        "next(f)"
      ],
      "metadata": {
        "colab": {
          "base_uri": "https://localhost:8080/"
        },
        "id": "nQ6F9dO-ATon",
        "outputId": "05701a8c-415a-43de-8270-15aaab201681"
      },
      "execution_count": null,
      "outputs": [
        {
          "output_type": "execute_result",
          "data": {
            "text/plain": [
              "55"
            ]
          },
          "metadata": {},
          "execution_count": 54
        }
      ]
    },
    {
      "cell_type": "code",
      "source": [
        "next(f)"
      ],
      "metadata": {
        "colab": {
          "base_uri": "https://localhost:8080/"
        },
        "id": "s85Z8Rx0AVM2",
        "outputId": "8b0ced42-2a35-4d49-a7e6-28a6244a7189"
      },
      "execution_count": null,
      "outputs": [
        {
          "output_type": "execute_result",
          "data": {
            "text/plain": [
              "89"
            ]
          },
          "metadata": {},
          "execution_count": 55
        }
      ]
    },
    {
      "cell_type": "code",
      "source": [
        "next(f)"
      ],
      "metadata": {
        "colab": {
          "base_uri": "https://localhost:8080/"
        },
        "id": "FHrpEbAlAV7_",
        "outputId": "26ac042d-2377-49a7-e391-e53dcace5536"
      },
      "execution_count": null,
      "outputs": [
        {
          "output_type": "execute_result",
          "data": {
            "text/plain": [
              "144"
            ]
          },
          "metadata": {},
          "execution_count": 56
        }
      ]
    },
    {
      "cell_type": "code",
      "source": [
        "next(f)"
      ],
      "metadata": {
        "colab": {
          "base_uri": "https://localhost:8080/"
        },
        "id": "T6kbHtxoAWMz",
        "outputId": "7869ea89-e8ef-47f4-8a1c-8d0a174562d5"
      },
      "execution_count": null,
      "outputs": [
        {
          "output_type": "execute_result",
          "data": {
            "text/plain": [
              "233"
            ]
          },
          "metadata": {},
          "execution_count": 58
        }
      ]
    },
    {
      "cell_type": "code",
      "source": [
        "next(f)"
      ],
      "metadata": {
        "colab": {
          "base_uri": "https://localhost:8080/"
        },
        "id": "o9EU2NUiAWl_",
        "outputId": "e693e277-062c-47af-a500-8acb111a8a5d"
      },
      "execution_count": null,
      "outputs": [
        {
          "output_type": "execute_result",
          "data": {
            "text/plain": [
              "610"
            ]
          },
          "metadata": {},
          "execution_count": 60
        }
      ]
    },
    {
      "cell_type": "code",
      "source": [
        "next(f)"
      ],
      "metadata": {
        "colab": {
          "base_uri": "https://localhost:8080/"
        },
        "id": "hpJHRR1OAZzj",
        "outputId": "934ef1e4-83de-4d34-a08e-0a206999b652"
      },
      "execution_count": null,
      "outputs": [
        {
          "output_type": "execute_result",
          "data": {
            "text/plain": [
              "987"
            ]
          },
          "metadata": {},
          "execution_count": 61
        }
      ]
    },
    {
      "cell_type": "code",
      "source": [
        "next(f)"
      ],
      "metadata": {
        "colab": {
          "base_uri": "https://localhost:8080/"
        },
        "id": "jzU7189YAaMr",
        "outputId": "0f3be3f9-9f8c-4e0b-85a0-13429ab3c8da"
      },
      "execution_count": null,
      "outputs": [
        {
          "output_type": "execute_result",
          "data": {
            "text/plain": [
              "1597"
            ]
          },
          "metadata": {},
          "execution_count": 62
        }
      ]
    },
    {
      "cell_type": "code",
      "source": [
        "next(f)"
      ],
      "metadata": {
        "colab": {
          "base_uri": "https://localhost:8080/"
        },
        "id": "X6oBUt1jAafF",
        "outputId": "c7f656e5-8050-469a-a4da-2cb220f1818c"
      },
      "execution_count": null,
      "outputs": [
        {
          "output_type": "execute_result",
          "data": {
            "text/plain": [
              "4181"
            ]
          },
          "metadata": {},
          "execution_count": 64
        }
      ]
    },
    {
      "cell_type": "code",
      "source": [
        "next(f)"
      ],
      "metadata": {
        "colab": {
          "base_uri": "https://localhost:8080/"
        },
        "id": "UNFQGIXXAb8w",
        "outputId": "83a93619-589e-4b75-f0e9-6a08e2907140"
      },
      "execution_count": null,
      "outputs": [
        {
          "output_type": "execute_result",
          "data": {
            "text/plain": [
              "6765"
            ]
          },
          "metadata": {},
          "execution_count": 65
        }
      ]
    },
    {
      "cell_type": "markdown",
      "source": [
        "# **LAMBDA, MAP, REDUCE, AND FILTER**"
      ],
      "metadata": {
        "id": "h-n4vzyeAf8n"
      }
    },
    {
      "cell_type": "code",
      "source": [
        "#Lambda Function >> anonymous function\n",
        "#syntax\n",
        "# Lambda arguments : expression no need of return satement and def keyword"
      ],
      "metadata": {
        "id": "ZPS1tpRwAcV_"
      },
      "execution_count": null,
      "outputs": []
    },
    {
      "cell_type": "code",
      "source": [
        "def square(x):\n",
        "  return x**2\n",
        "square(2)"
      ],
      "metadata": {
        "colab": {
          "base_uri": "https://localhost:8080/"
        },
        "id": "YM1CMWjlBUeX",
        "outputId": "069075b5-4026-47fd-c223-c5e7d9f2b35b"
      },
      "execution_count": null,
      "outputs": [
        {
          "output_type": "execute_result",
          "data": {
            "text/plain": [
              "4"
            ]
          },
          "metadata": {},
          "execution_count": 67
        }
      ]
    },
    {
      "cell_type": "code",
      "source": [
        "sq_lambda = lambda x: x**2"
      ],
      "metadata": {
        "id": "9vzsJYgUBg83"
      },
      "execution_count": null,
      "outputs": []
    },
    {
      "cell_type": "code",
      "source": [
        "sq_lambda(2)"
      ],
      "metadata": {
        "colab": {
          "base_uri": "https://localhost:8080/"
        },
        "id": "aFuDJUAcCS4L",
        "outputId": "2e1f2d21-e576-4f8a-ddea-f22979fb04ea"
      },
      "execution_count": null,
      "outputs": [
        {
          "output_type": "execute_result",
          "data": {
            "text/plain": [
              "4"
            ]
          },
          "metadata": {},
          "execution_count": 69
        }
      ]
    },
    {
      "cell_type": "code",
      "source": [
        "add = lambda x,y : x+y"
      ],
      "metadata": {
        "id": "BwOoMbgiCVhj"
      },
      "execution_count": null,
      "outputs": []
    },
    {
      "cell_type": "code",
      "source": [
        "add(5,10)"
      ],
      "metadata": {
        "colab": {
          "base_uri": "https://localhost:8080/"
        },
        "id": "e9rl5IffCbws",
        "outputId": "297ea5a3-3059-4d6b-f1d6-cc454c17465b"
      },
      "execution_count": null,
      "outputs": [
        {
          "output_type": "execute_result",
          "data": {
            "text/plain": [
              "15"
            ]
          },
          "metadata": {},
          "execution_count": 72
        }
      ]
    },
    {
      "cell_type": "code",
      "source": [
        "is_even = lambda x: x%2 == 0  #(%) it is used to see remander of a division"
      ],
      "metadata": {
        "id": "63mMIb7OCfzX"
      },
      "execution_count": null,
      "outputs": []
    },
    {
      "cell_type": "code",
      "source": [
        "is_even(20)"
      ],
      "metadata": {
        "colab": {
          "base_uri": "https://localhost:8080/"
        },
        "id": "GftZ3t7tCzxU",
        "outputId": "97499747-4603-4fe7-86c4-78345ba97d1a"
      },
      "execution_count": null,
      "outputs": [
        {
          "output_type": "execute_result",
          "data": {
            "text/plain": [
              "True"
            ]
          },
          "metadata": {},
          "execution_count": 74
        }
      ]
    },
    {
      "cell_type": "code",
      "source": [
        "is_even(17)"
      ],
      "metadata": {
        "colab": {
          "base_uri": "https://localhost:8080/"
        },
        "id": "GzbUnMQlC2gn",
        "outputId": "2f0c252e-444b-459c-d9c8-be432c14b722"
      },
      "execution_count": null,
      "outputs": [
        {
          "output_type": "execute_result",
          "data": {
            "text/plain": [
              "False"
            ]
          },
          "metadata": {},
          "execution_count": 75
        }
      ]
    },
    {
      "cell_type": "code",
      "source": [
        "#sort the list based on the length of element of list\n",
        "le = lambda x: len(x)\n",
        "le(\"Vanshika\")"
      ],
      "metadata": {
        "colab": {
          "base_uri": "https://localhost:8080/"
        },
        "id": "pgCnCFv3DOI4",
        "outputId": "2184dfa7-ccb1-4f90-e800-9126bb7f00f2"
      },
      "execution_count": null,
      "outputs": [
        {
          "output_type": "execute_result",
          "data": {
            "text/plain": [
              "8"
            ]
          },
          "metadata": {},
          "execution_count": 1
        }
      ]
    },
    {
      "cell_type": "code",
      "source": [
        "x = [\"Python\",\"Java\",\"C++\",\"C\"]\n",
        "x"
      ],
      "metadata": {
        "colab": {
          "base_uri": "https://localhost:8080/"
        },
        "id": "_esbB7DQC6KT",
        "outputId": "07c83b77-27ba-4a20-8e3e-e43b2186662f"
      },
      "execution_count": null,
      "outputs": [
        {
          "output_type": "execute_result",
          "data": {
            "text/plain": [
              "['Python', 'Java', 'C++', 'C']"
            ]
          },
          "metadata": {},
          "execution_count": 76
        }
      ]
    },
    {
      "cell_type": "code",
      "source": [
        "sorted(x)  #by default sorting based on alphabetical order"
      ],
      "metadata": {
        "colab": {
          "base_uri": "https://localhost:8080/"
        },
        "id": "cwOAcqKoDDR0",
        "outputId": "3f4c270c-b825-4b07-c12a-8c76c465ec3a"
      },
      "execution_count": null,
      "outputs": [
        {
          "output_type": "execute_result",
          "data": {
            "text/plain": [
              "['C', 'C++', 'Java', 'Python']"
            ]
          },
          "metadata": {},
          "execution_count": 77
        }
      ]
    },
    {
      "cell_type": "code",
      "source": [
        "sorted(x, key = lambda x: len(x))\n"
      ],
      "metadata": {
        "colab": {
          "base_uri": "https://localhost:8080/"
        },
        "id": "7yqSGg-jDiVQ",
        "outputId": "d12fad74-a0b2-46bc-c8e7-7ef238ec7b86"
      },
      "execution_count": null,
      "outputs": [
        {
          "output_type": "execute_result",
          "data": {
            "text/plain": [
              "['C', 'C++', 'Java', 'Python']"
            ]
          },
          "metadata": {},
          "execution_count": 80
        }
      ]
    },
    {
      "cell_type": "code",
      "source": [
        "fib = lambda n: n if n <= 1 else fib(n-1) + fib(n-2) #fibinachi series >> sum of last two units\n",
        "[fib(i) for i in range(10)]"
      ],
      "metadata": {
        "colab": {
          "base_uri": "https://localhost:8080/"
        },
        "id": "7Hq9pWdGDzmH",
        "outputId": "405213d6-e462-4db7-bc35-7ddb8d2f6f85"
      },
      "execution_count": null,
      "outputs": [
        {
          "output_type": "execute_result",
          "data": {
            "text/plain": [
              "[0, 1, 1, 2, 3, 5, 8, 13, 21, 34]"
            ]
          },
          "metadata": {},
          "execution_count": 1
        }
      ]
    },
    {
      "cell_type": "code",
      "source": [
        "#factorial of 5 >>> (5!) or |_5 => 5*4*3*2*1\n",
        "#0! = 1"
      ],
      "metadata": {
        "id": "T0V6N3PYIwV3"
      },
      "execution_count": null,
      "outputs": []
    },
    {
      "cell_type": "code",
      "source": [
        "def fact_num(n):\n",
        "  if n==0:\n",
        "    return 1\n",
        "  else:\n",
        "    return n*fact_num(n-1)"
      ],
      "metadata": {
        "id": "XMeAdMEZJsJR"
      },
      "execution_count": null,
      "outputs": []
    },
    {
      "cell_type": "code",
      "source": [
        "fact_num(0)"
      ],
      "metadata": {
        "colab": {
          "base_uri": "https://localhost:8080/"
        },
        "id": "vBgOJb_jmx_F",
        "outputId": "62c325b0-a318-4417-e27e-4805b9d51de4"
      },
      "execution_count": null,
      "outputs": [
        {
          "output_type": "execute_result",
          "data": {
            "text/plain": [
              "1"
            ]
          },
          "metadata": {},
          "execution_count": 3
        }
      ]
    },
    {
      "cell_type": "code",
      "source": [
        "fact_num(5)"
      ],
      "metadata": {
        "colab": {
          "base_uri": "https://localhost:8080/"
        },
        "id": "I0ntX7jZKuEj",
        "outputId": "c5480e36-3856-407a-fad6-8158e822240f"
      },
      "execution_count": null,
      "outputs": [
        {
          "output_type": "execute_result",
          "data": {
            "text/plain": [
              "120"
            ]
          },
          "metadata": {},
          "execution_count": 4
        }
      ]
    },
    {
      "cell_type": "code",
      "source": [
        "lambda_fact = lambda n: 1 if n==0 else n*fact_num(n-1)"
      ],
      "metadata": {
        "id": "NjmMc8IWLHfO"
      },
      "execution_count": null,
      "outputs": []
    },
    {
      "cell_type": "code",
      "source": [
        "lambda_fact(5)"
      ],
      "metadata": {
        "colab": {
          "base_uri": "https://localhost:8080/"
        },
        "id": "2dZYbAaAMElE",
        "outputId": "5e70db53-dc80-4606-e393-6c8ff1e358b0"
      },
      "execution_count": null,
      "outputs": [
        {
          "output_type": "execute_result",
          "data": {
            "text/plain": [
              "120"
            ]
          },
          "metadata": {},
          "execution_count": 99
        }
      ]
    },
    {
      "cell_type": "markdown",
      "source": [
        "# **MAP**"
      ],
      "metadata": {
        "id": "RRyObUZtMwIK"
      }
    },
    {
      "cell_type": "code",
      "source": [
        "#Map >> executes a specified function for each of item of aan iterable\n",
        "#Syntax >> map(func, *iterables)"
      ],
      "metadata": {
        "id": "RVm_PMTmMivO"
      },
      "execution_count": null,
      "outputs": []
    },
    {
      "cell_type": "code",
      "source": [
        "help(map)"
      ],
      "metadata": {
        "colab": {
          "base_uri": "https://localhost:8080/"
        },
        "id": "nV-2kIb4Nn5W",
        "outputId": "f3986e26-b9e8-43e0-e30b-10ae79e184bf"
      },
      "execution_count": null,
      "outputs": [
        {
          "output_type": "stream",
          "name": "stdout",
          "text": [
            "Help on class map in module builtins:\n",
            "\n",
            "class map(object)\n",
            " |  map(func, *iterables) --> map object\n",
            " |  \n",
            " |  Make an iterator that computes the function using arguments from\n",
            " |  each of the iterables.  Stops when the shortest iterable is exhausted.\n",
            " |  \n",
            " |  Methods defined here:\n",
            " |  \n",
            " |  __getattribute__(self, name, /)\n",
            " |      Return getattr(self, name).\n",
            " |  \n",
            " |  __iter__(self, /)\n",
            " |      Implement iter(self).\n",
            " |  \n",
            " |  __next__(self, /)\n",
            " |      Implement next(self).\n",
            " |  \n",
            " |  __reduce__(...)\n",
            " |      Return state information for pickling.\n",
            " |  \n",
            " |  ----------------------------------------------------------------------\n",
            " |  Static methods defined here:\n",
            " |  \n",
            " |  __new__(*args, **kwargs) from builtins.type\n",
            " |      Create and return a new object.  See help(type) for accurate signature.\n",
            "\n"
          ]
        }
      ]
    },
    {
      "cell_type": "code",
      "source": [
        "l = [1,2,3,4,5,6]\n",
        "def square(l):\n",
        "  sq =[]\n",
        "  for i in l:\n",
        "    sq.append(i**2)\n",
        "  return sq"
      ],
      "metadata": {
        "id": "45ahKqzZNqQF"
      },
      "execution_count": null,
      "outputs": []
    },
    {
      "cell_type": "code",
      "source": [
        "square(l)"
      ],
      "metadata": {
        "colab": {
          "base_uri": "https://localhost:8080/"
        },
        "id": "nFjlauTWOIhW",
        "outputId": "ff1009f6-d4da-4ac1-db70-8857a3078879"
      },
      "execution_count": null,
      "outputs": [
        {
          "output_type": "execute_result",
          "data": {
            "text/plain": [
              "[1, 4, 9, 16, 25, 36]"
            ]
          },
          "metadata": {},
          "execution_count": 103
        }
      ]
    },
    {
      "cell_type": "code",
      "source": [
        "def sq(x):\n",
        "  return x**2"
      ],
      "metadata": {
        "id": "akM3PlNdOKB1"
      },
      "execution_count": null,
      "outputs": []
    },
    {
      "cell_type": "code",
      "source": [
        "l"
      ],
      "metadata": {
        "colab": {
          "base_uri": "https://localhost:8080/"
        },
        "id": "7PKwzrxAOYRu",
        "outputId": "da80cdea-9817-4ec0-8977-eb6fc1cf635e"
      },
      "execution_count": null,
      "outputs": [
        {
          "output_type": "execute_result",
          "data": {
            "text/plain": [
              "[1, 2, 3, 4, 5, 6]"
            ]
          },
          "metadata": {},
          "execution_count": 105
        }
      ]
    },
    {
      "cell_type": "code",
      "source": [
        "#map(func, iterable)\n",
        "list(map(sq,l))"
      ],
      "metadata": {
        "colab": {
          "base_uri": "https://localhost:8080/"
        },
        "id": "IrEH73OyOYv-",
        "outputId": "2ed51616-ce70-44a5-9516-92eeb6587b81"
      },
      "execution_count": null,
      "outputs": [
        {
          "output_type": "execute_result",
          "data": {
            "text/plain": [
              "[1, 4, 9, 16, 25, 36]"
            ]
          },
          "metadata": {},
          "execution_count": 106
        }
      ]
    },
    {
      "cell_type": "code",
      "source": [
        "def add(x):\n",
        "  return x+10\n",
        "\n",
        "list(map(add,l))"
      ],
      "metadata": {
        "colab": {
          "base_uri": "https://localhost:8080/"
        },
        "id": "GGDDaEj1OtRH",
        "outputId": "e999ca14-bb71-4ae5-a4d3-c1e99bbdf35b"
      },
      "execution_count": null,
      "outputs": [
        {
          "output_type": "execute_result",
          "data": {
            "text/plain": [
              "[11, 12, 13, 14, 15, 16]"
            ]
          },
          "metadata": {},
          "execution_count": 108
        }
      ]
    },
    {
      "cell_type": "code",
      "source": [
        "#using lambda with map\n",
        "list(map(lambda x: x**2,l))"
      ],
      "metadata": {
        "colab": {
          "base_uri": "https://localhost:8080/"
        },
        "id": "yvqGkJyjQAgy",
        "outputId": "98ffb5b1-640e-4770-e90b-184c663df90c"
      },
      "execution_count": null,
      "outputs": [
        {
          "output_type": "execute_result",
          "data": {
            "text/plain": [
              "[1, 4, 9, 16, 25, 36]"
            ]
          },
          "metadata": {},
          "execution_count": 110
        }
      ]
    },
    {
      "cell_type": "code",
      "source": [
        "list(map(lambda x: x+10,l))"
      ],
      "metadata": {
        "colab": {
          "base_uri": "https://localhost:8080/"
        },
        "id": "7kXNO-NXQ5Ku",
        "outputId": "9959210b-d488-4e67-dc94-c06faea51318"
      },
      "execution_count": null,
      "outputs": [
        {
          "output_type": "execute_result",
          "data": {
            "text/plain": [
              "[11, 12, 13, 14, 15, 16]"
            ]
          },
          "metadata": {},
          "execution_count": 111
        }
      ]
    },
    {
      "cell_type": "code",
      "source": [],
      "metadata": {
        "id": "wttuWP8CRHrW"
      },
      "execution_count": null,
      "outputs": []
    }
  ]
}